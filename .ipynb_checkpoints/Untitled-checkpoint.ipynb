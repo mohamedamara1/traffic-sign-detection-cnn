{
 "cells": [
  {
   "cell_type": "code",
   "execution_count": 1,
   "id": "8c4d90c6-4d80-4b38-b9c4-366793f2355e",
   "metadata": {},
   "outputs": [],
   "source": [
    "import pandas as pd\n",
    "import numpy as np\n",
    "import tensorflow as tf\n",
    "from PIL import Image\n",
    "import os\n",
    "from sklearn.model_selection import train_test_split \n",
    "from keras.models import Sequential\n",
    "from keras.layers import Conv2D, MaxPool2D, Dense, Flatten, Dropout\n",
    "import matplotlib.pyplot as plt\n",
    "import plotly.express as px\n",
    "import random\n",
    "from keras.losses import SparseCategoricalCrossentropy"
   ]
  },
  {
   "cell_type": "code",
   "execution_count": 55,
   "id": "e281fdb6-c39a-451c-b959-777716bacfc8",
   "metadata": {},
   "outputs": [],
   "source": [
    "def fetch_image(data_folder):\n",
    "    train_data = []\n",
    "    test_data = []\n",
    "    valid_data = []\n",
    "    \n",
    "    splits = {\n",
    "        \"train\": os.path.join(data_folder, \"train\"),\n",
    "        \"test\": os.path.join(data_folder, \"test\"),\n",
    "        \"valid\": os.path.join(data_folder, \"valid\")\n",
    "    }\n",
    "    \n",
    "    for split_name, split_path in splits.items():\n",
    "        images_folder = os.path.join(split_path, \"images\")\n",
    "        labels_folder = os.path.join(split_path, \"labels\")\n",
    "        \n",
    "        for image_name in os.listdir(images_folder):\n",
    "            label_name = os.path.splitext(image_name)[0] + \".txt\"\n",
    "            label_path = os.path.join(labels_folder, label_name)\n",
    "            image_path = os.path.join(images_folder, image_name)\n",
    "            \n",
    "            if not os.path.exists(label_path):\n",
    "                print(f\"Warning: Label file not found for {image_name}\")\n",
    "                continue\n",
    "            \n",
    "            imgTrafficSignal = Image.open(image_path)\n",
    "            imgTrafficSignal = imgTrafficSignal.convert(\"L\")\n",
    "            imgTrafficSignal = imgTrafficSignal.resize((90, 90))\n",
    "            imgTrafficSignal = np.array(imgTrafficSignal)\n",
    "            \n",
    "            with open(label_path, \"r\") as label_file:\n",
    "                label_lines = label_file.readlines()\n",
    "                label_values = []\n",
    "                for line in label_lines:\n",
    "                    parts = line.strip().split()\n",
    "                    class_id = int(parts[0])  # First value is the class ID\n",
    "                    label_values.append(class_id)\n",
    "            \n",
    "            # Use only valid labels (remove -1 or any invalid labels)\n",
    "            valid_labels = [label for label in label_values if label >= 0]\n",
    "            \n",
    "            if not valid_labels:\n",
    "                print(f\"No valid labels for {image_name}\")\n",
    "                continue\n",
    "            \n",
    "            # Use the first valid label\n",
    "            first_label = valid_labels[0]\n",
    "            \n",
    "            if split_name == \"train\":\n",
    "                train_data.append((imgTrafficSignal, first_label))\n",
    "            elif split_name == \"test\":\n",
    "                test_data.append((imgTrafficSignal, first_label))\n",
    "            elif split_name == \"valid\":\n",
    "                valid_data.append((imgTrafficSignal, first_label))\n",
    "    \n",
    "    return train_data, test_data, valid_data"
   ]
  },
  {
   "cell_type": "code",
   "execution_count": 57,
   "id": "ffeea084-4600-4072-bb09-e2462389f98a",
   "metadata": {},
   "outputs": [
    {
     "name": "stdout",
     "output_type": "stream",
     "text": [
      "No valid labels for FisheyeCamera_1_00802_png.rf.6a502d781364b74f35bfa71832fc1ede.jpg\n",
      "No valid labels for FisheyeCamera_1_00807_png.rf.065f778b2eaf15dd7b5beb90b30c490c.jpg\n",
      "No valid labels for FisheyeCamera_1_00926_png.rf.511cfac04ff48a1fe99b560b4a4fb9e2.jpg\n",
      "No valid labels for FisheyeCamera_1_00922_png.rf.408835a278b9c700eb1a2f358ca58d07.jpg\n"
     ]
    }
   ],
   "source": [
    "data_folder = \"./DataSet\"\n",
    "train_data, test_data, valid_data = fetch_image(data_folder)"
   ]
  },
  {
   "cell_type": "code",
   "execution_count": 59,
   "id": "c63d84ef-faa2-440a-9045-fb3f1f2912b2",
   "metadata": {},
   "outputs": [],
   "source": [
    "# Prepare training data features and labels\n",
    "training_data_features, training_data_labels = zip(*train_data)\n",
    "training_data_features = np.array(training_data_features)\n",
    "training_data_labels = np.array(training_data_labels)\n",
    "\n",
    "# Normalize the images\n",
    "training_data_features = training_data_features / 255.0\n",
    "\n",
    "# Reshape for CNN (add channel dimension)\n",
    "training_data_features = training_data_features.reshape(-1, 90, 90, 1)"
   ]
  },
  {
   "cell_type": "code",
   "execution_count": 61,
   "id": "04437d5a-f459-448e-8767-0613c75021cd",
   "metadata": {},
   "outputs": [
    {
     "name": "stdout",
     "output_type": "stream",
     "text": [
      "Label 0: 317 occurrences\n",
      "Label 1: 326 occurrences\n",
      "Label 2: 11 occurrences\n",
      "Label 3: 225 occurrences\n",
      "Label 4: 86 occurrences\n",
      "Label 5: 222 occurrences\n",
      "Label 6: 264 occurrences\n",
      "Label 7: 312 occurrences\n",
      "Label 8: 214 occurrences\n",
      "Label 9: 249 occurrences\n",
      "Label 10: 286 occurrences\n",
      "Label 11: 298 occurrences\n",
      "Label 12: 297 occurrences\n",
      "Label 13: 142 occurrences\n",
      "Label 14: 278 occurrences\n"
     ]
    }
   ],
   "source": [
    "unique_labels, label_counts = np.unique(training_data_labels, return_counts=True)\n",
    "for label, count in zip(unique_labels, label_counts):\n",
    "    print(f\"Label {label}: {count} occurrences\")"
   ]
  },
  {
   "cell_type": "code",
   "execution_count": 89,
   "id": "6a43886b-8e1b-4d3d-9183-71455028a2ab",
   "metadata": {},
   "outputs": [
    {
     "ename": "ModuleNotFoundError",
     "evalue": "No module named 'keras.layers.advanced_activations'",
     "output_type": "error",
     "traceback": [
      "\u001b[1;31m---------------------------------------------------------------------------\u001b[0m",
      "\u001b[1;31mModuleNotFoundError\u001b[0m                       Traceback (most recent call last)",
      "Cell \u001b[1;32mIn[89], line 2\u001b[0m\n\u001b[0;32m      1\u001b[0m \u001b[38;5;28;01mimport\u001b[39;00m \u001b[38;5;21;01mkeras\u001b[39;00m\n\u001b[1;32m----> 2\u001b[0m \u001b[38;5;28;01mfrom\u001b[39;00m \u001b[38;5;21;01mkeras\u001b[39;00m\u001b[38;5;21;01m.\u001b[39;00m\u001b[38;5;21;01mlayers\u001b[39;00m\u001b[38;5;21;01m.\u001b[39;00m\u001b[38;5;21;01madvanced_activations\u001b[39;00m \u001b[38;5;28;01mimport\u001b[39;00m LeakyReLU\n\u001b[0;32m      3\u001b[0m cnnModel \u001b[38;5;241m=\u001b[39m Sequential()\n\u001b[0;32m      4\u001b[0m cnnModel\u001b[38;5;241m.\u001b[39madd(Conv2D(\u001b[38;5;241m32\u001b[39m, kernel_size\u001b[38;5;241m=\u001b[39m(\u001b[38;5;241m3\u001b[39m, \u001b[38;5;241m3\u001b[39m),activation\u001b[38;5;241m=\u001b[39m\u001b[38;5;124m'\u001b[39m\u001b[38;5;124mlinear\u001b[39m\u001b[38;5;124m'\u001b[39m,input_shape\u001b[38;5;241m=\u001b[39m(\u001b[38;5;241m28\u001b[39m,\u001b[38;5;241m28\u001b[39m,\u001b[38;5;241m1\u001b[39m),padding\u001b[38;5;241m=\u001b[39m\u001b[38;5;124m'\u001b[39m\u001b[38;5;124msame\u001b[39m\u001b[38;5;124m'\u001b[39m))\n",
      "\u001b[1;31mModuleNotFoundError\u001b[0m: No module named 'keras.layers.advanced_activations'"
     ]
    }
   ],
   "source": [
    "import keras\n",
    "cnnModel.add(Conv2D(32, kernel_size=(3, 3), activation='linear', input_shape=(28, 28, 1), padding='same'))\n",
    "cnnModel.add(LeakyReLU(alpha=0.1))\n",
    "cnnModel.add(MaxPooling2D((2, 2), padding='same'))\n",
    "cnnModel.add(Conv2D(64, (3, 3), activation='linear', padding='same'))\n",
    "cnnModel.add(LeakyReLU(alpha=0.1))\n",
    "cnnModel.add(MaxPooling2D(pool_size=(2, 2), padding='same'))\n",
    "cnnModel.add(Conv2D(128, (3, 3), activation='linear', padding='same'))\n",
    "cnnModel.add(LeakyReLU(alpha=0.1))                  \n",
    "cnnModel.add(MaxPooling2D(pool_size=(2, 2), padding='same'))\n",
    "cnnModel.add(Flatten())\n",
    "cnnModel.add(Dense(128, activation='linear'))\n",
    "cnnModel.add(LeakyReLU(alpha=0.1))                  \n",
    "cnnModel.add(Dense(15, activation='softmax'))"
   ]
  },
  {
   "cell_type": "code",
   "execution_count": 65,
   "id": "8a0559d0-267f-45cf-9d92-c3c93561d036",
   "metadata": {},
   "outputs": [
    {
     "data": {
      "text/html": [
       "<pre style=\"white-space:pre;overflow-x:auto;line-height:normal;font-family:Menlo,'DejaVu Sans Mono',consolas,'Courier New',monospace\"><span style=\"font-weight: bold\">Model: \"sequential_3\"</span>\n",
       "</pre>\n"
      ],
      "text/plain": [
       "\u001b[1mModel: \"sequential_3\"\u001b[0m\n"
      ]
     },
     "metadata": {},
     "output_type": "display_data"
    },
    {
     "data": {
      "text/html": [
       "<pre style=\"white-space:pre;overflow-x:auto;line-height:normal;font-family:Menlo,'DejaVu Sans Mono',consolas,'Courier New',monospace\">┏━━━━━━━━━━━━━━━━━━━━━━━━━━━━━━━━━━━━━━┳━━━━━━━━━━━━━━━━━━━━━━━━━━━━━┳━━━━━━━━━━━━━━━━━┓\n",
       "┃<span style=\"font-weight: bold\"> Layer (type)                         </span>┃<span style=\"font-weight: bold\"> Output Shape                </span>┃<span style=\"font-weight: bold\">         Param # </span>┃\n",
       "┡━━━━━━━━━━━━━━━━━━━━━━━━━━━━━━━━━━━━━━╇━━━━━━━━━━━━━━━━━━━━━━━━━━━━━╇━━━━━━━━━━━━━━━━━┩\n",
       "│ conv2d_9 (<span style=\"color: #0087ff; text-decoration-color: #0087ff\">Conv2D</span>)                    │ (<span style=\"color: #00d7ff; text-decoration-color: #00d7ff\">None</span>, <span style=\"color: #00af00; text-decoration-color: #00af00\">90</span>, <span style=\"color: #00af00; text-decoration-color: #00af00\">90</span>, <span style=\"color: #00af00; text-decoration-color: #00af00\">16</span>)          │             <span style=\"color: #00af00; text-decoration-color: #00af00\">160</span> │\n",
       "├──────────────────────────────────────┼─────────────────────────────┼─────────────────┤\n",
       "│ max_pooling2d_8 (<span style=\"color: #0087ff; text-decoration-color: #0087ff\">MaxPooling2D</span>)       │ (<span style=\"color: #00d7ff; text-decoration-color: #00d7ff\">None</span>, <span style=\"color: #00af00; text-decoration-color: #00af00\">45</span>, <span style=\"color: #00af00; text-decoration-color: #00af00\">45</span>, <span style=\"color: #00af00; text-decoration-color: #00af00\">16</span>)          │               <span style=\"color: #00af00; text-decoration-color: #00af00\">0</span> │\n",
       "├──────────────────────────────────────┼─────────────────────────────┼─────────────────┤\n",
       "│ conv2d_10 (<span style=\"color: #0087ff; text-decoration-color: #0087ff\">Conv2D</span>)                   │ (<span style=\"color: #00d7ff; text-decoration-color: #00d7ff\">None</span>, <span style=\"color: #00af00; text-decoration-color: #00af00\">45</span>, <span style=\"color: #00af00; text-decoration-color: #00af00\">45</span>, <span style=\"color: #00af00; text-decoration-color: #00af00\">32</span>)          │           <span style=\"color: #00af00; text-decoration-color: #00af00\">4,640</span> │\n",
       "├──────────────────────────────────────┼─────────────────────────────┼─────────────────┤\n",
       "│ max_pooling2d_9 (<span style=\"color: #0087ff; text-decoration-color: #0087ff\">MaxPooling2D</span>)       │ (<span style=\"color: #00d7ff; text-decoration-color: #00d7ff\">None</span>, <span style=\"color: #00af00; text-decoration-color: #00af00\">23</span>, <span style=\"color: #00af00; text-decoration-color: #00af00\">23</span>, <span style=\"color: #00af00; text-decoration-color: #00af00\">32</span>)          │               <span style=\"color: #00af00; text-decoration-color: #00af00\">0</span> │\n",
       "├──────────────────────────────────────┼─────────────────────────────┼─────────────────┤\n",
       "│ conv2d_11 (<span style=\"color: #0087ff; text-decoration-color: #0087ff\">Conv2D</span>)                   │ (<span style=\"color: #00d7ff; text-decoration-color: #00d7ff\">None</span>, <span style=\"color: #00af00; text-decoration-color: #00af00\">23</span>, <span style=\"color: #00af00; text-decoration-color: #00af00\">23</span>, <span style=\"color: #00af00; text-decoration-color: #00af00\">64</span>)          │          <span style=\"color: #00af00; text-decoration-color: #00af00\">51,264</span> │\n",
       "├──────────────────────────────────────┼─────────────────────────────┼─────────────────┤\n",
       "│ max_pooling2d_10 (<span style=\"color: #0087ff; text-decoration-color: #0087ff\">MaxPooling2D</span>)      │ (<span style=\"color: #00d7ff; text-decoration-color: #00d7ff\">None</span>, <span style=\"color: #00af00; text-decoration-color: #00af00\">12</span>, <span style=\"color: #00af00; text-decoration-color: #00af00\">12</span>, <span style=\"color: #00af00; text-decoration-color: #00af00\">64</span>)          │               <span style=\"color: #00af00; text-decoration-color: #00af00\">0</span> │\n",
       "├──────────────────────────────────────┼─────────────────────────────┼─────────────────┤\n",
       "│ conv2d_12 (<span style=\"color: #0087ff; text-decoration-color: #0087ff\">Conv2D</span>)                   │ (<span style=\"color: #00d7ff; text-decoration-color: #00d7ff\">None</span>, <span style=\"color: #00af00; text-decoration-color: #00af00\">12</span>, <span style=\"color: #00af00; text-decoration-color: #00af00\">12</span>, <span style=\"color: #00af00; text-decoration-color: #00af00\">128</span>)         │         <span style=\"color: #00af00; text-decoration-color: #00af00\">401,536</span> │\n",
       "├──────────────────────────────────────┼─────────────────────────────┼─────────────────┤\n",
       "│ max_pooling2d_11 (<span style=\"color: #0087ff; text-decoration-color: #0087ff\">MaxPooling2D</span>)      │ (<span style=\"color: #00d7ff; text-decoration-color: #00d7ff\">None</span>, <span style=\"color: #00af00; text-decoration-color: #00af00\">6</span>, <span style=\"color: #00af00; text-decoration-color: #00af00\">6</span>, <span style=\"color: #00af00; text-decoration-color: #00af00\">128</span>)           │               <span style=\"color: #00af00; text-decoration-color: #00af00\">0</span> │\n",
       "├──────────────────────────────────────┼─────────────────────────────┼─────────────────┤\n",
       "│ flatten_1 (<span style=\"color: #0087ff; text-decoration-color: #0087ff\">Flatten</span>)                  │ (<span style=\"color: #00d7ff; text-decoration-color: #00d7ff\">None</span>, <span style=\"color: #00af00; text-decoration-color: #00af00\">4608</span>)                │               <span style=\"color: #00af00; text-decoration-color: #00af00\">0</span> │\n",
       "├──────────────────────────────────────┼─────────────────────────────┼─────────────────┤\n",
       "│ dense_6 (<span style=\"color: #0087ff; text-decoration-color: #0087ff\">Dense</span>)                      │ (<span style=\"color: #00d7ff; text-decoration-color: #00d7ff\">None</span>, <span style=\"color: #00af00; text-decoration-color: #00af00\">232</span>)                 │       <span style=\"color: #00af00; text-decoration-color: #00af00\">1,069,288</span> │\n",
       "├──────────────────────────────────────┼─────────────────────────────┼─────────────────┤\n",
       "│ dense_7 (<span style=\"color: #0087ff; text-decoration-color: #0087ff\">Dense</span>)                      │ (<span style=\"color: #00d7ff; text-decoration-color: #00d7ff\">None</span>, <span style=\"color: #00af00; text-decoration-color: #00af00\">116</span>)                 │          <span style=\"color: #00af00; text-decoration-color: #00af00\">27,028</span> │\n",
       "├──────────────────────────────────────┼─────────────────────────────┼─────────────────┤\n",
       "│ dense_8 (<span style=\"color: #0087ff; text-decoration-color: #0087ff\">Dense</span>)                      │ (<span style=\"color: #00d7ff; text-decoration-color: #00d7ff\">None</span>, <span style=\"color: #00af00; text-decoration-color: #00af00\">18</span>)                  │           <span style=\"color: #00af00; text-decoration-color: #00af00\">2,106</span> │\n",
       "└──────────────────────────────────────┴─────────────────────────────┴─────────────────┘\n",
       "</pre>\n"
      ],
      "text/plain": [
       "┏━━━━━━━━━━━━━━━━━━━━━━━━━━━━━━━━━━━━━━┳━━━━━━━━━━━━━━━━━━━━━━━━━━━━━┳━━━━━━━━━━━━━━━━━┓\n",
       "┃\u001b[1m \u001b[0m\u001b[1mLayer (type)                        \u001b[0m\u001b[1m \u001b[0m┃\u001b[1m \u001b[0m\u001b[1mOutput Shape               \u001b[0m\u001b[1m \u001b[0m┃\u001b[1m \u001b[0m\u001b[1m        Param #\u001b[0m\u001b[1m \u001b[0m┃\n",
       "┡━━━━━━━━━━━━━━━━━━━━━━━━━━━━━━━━━━━━━━╇━━━━━━━━━━━━━━━━━━━━━━━━━━━━━╇━━━━━━━━━━━━━━━━━┩\n",
       "│ conv2d_9 (\u001b[38;5;33mConv2D\u001b[0m)                    │ (\u001b[38;5;45mNone\u001b[0m, \u001b[38;5;34m90\u001b[0m, \u001b[38;5;34m90\u001b[0m, \u001b[38;5;34m16\u001b[0m)          │             \u001b[38;5;34m160\u001b[0m │\n",
       "├──────────────────────────────────────┼─────────────────────────────┼─────────────────┤\n",
       "│ max_pooling2d_8 (\u001b[38;5;33mMaxPooling2D\u001b[0m)       │ (\u001b[38;5;45mNone\u001b[0m, \u001b[38;5;34m45\u001b[0m, \u001b[38;5;34m45\u001b[0m, \u001b[38;5;34m16\u001b[0m)          │               \u001b[38;5;34m0\u001b[0m │\n",
       "├──────────────────────────────────────┼─────────────────────────────┼─────────────────┤\n",
       "│ conv2d_10 (\u001b[38;5;33mConv2D\u001b[0m)                   │ (\u001b[38;5;45mNone\u001b[0m, \u001b[38;5;34m45\u001b[0m, \u001b[38;5;34m45\u001b[0m, \u001b[38;5;34m32\u001b[0m)          │           \u001b[38;5;34m4,640\u001b[0m │\n",
       "├──────────────────────────────────────┼─────────────────────────────┼─────────────────┤\n",
       "│ max_pooling2d_9 (\u001b[38;5;33mMaxPooling2D\u001b[0m)       │ (\u001b[38;5;45mNone\u001b[0m, \u001b[38;5;34m23\u001b[0m, \u001b[38;5;34m23\u001b[0m, \u001b[38;5;34m32\u001b[0m)          │               \u001b[38;5;34m0\u001b[0m │\n",
       "├──────────────────────────────────────┼─────────────────────────────┼─────────────────┤\n",
       "│ conv2d_11 (\u001b[38;5;33mConv2D\u001b[0m)                   │ (\u001b[38;5;45mNone\u001b[0m, \u001b[38;5;34m23\u001b[0m, \u001b[38;5;34m23\u001b[0m, \u001b[38;5;34m64\u001b[0m)          │          \u001b[38;5;34m51,264\u001b[0m │\n",
       "├──────────────────────────────────────┼─────────────────────────────┼─────────────────┤\n",
       "│ max_pooling2d_10 (\u001b[38;5;33mMaxPooling2D\u001b[0m)      │ (\u001b[38;5;45mNone\u001b[0m, \u001b[38;5;34m12\u001b[0m, \u001b[38;5;34m12\u001b[0m, \u001b[38;5;34m64\u001b[0m)          │               \u001b[38;5;34m0\u001b[0m │\n",
       "├──────────────────────────────────────┼─────────────────────────────┼─────────────────┤\n",
       "│ conv2d_12 (\u001b[38;5;33mConv2D\u001b[0m)                   │ (\u001b[38;5;45mNone\u001b[0m, \u001b[38;5;34m12\u001b[0m, \u001b[38;5;34m12\u001b[0m, \u001b[38;5;34m128\u001b[0m)         │         \u001b[38;5;34m401,536\u001b[0m │\n",
       "├──────────────────────────────────────┼─────────────────────────────┼─────────────────┤\n",
       "│ max_pooling2d_11 (\u001b[38;5;33mMaxPooling2D\u001b[0m)      │ (\u001b[38;5;45mNone\u001b[0m, \u001b[38;5;34m6\u001b[0m, \u001b[38;5;34m6\u001b[0m, \u001b[38;5;34m128\u001b[0m)           │               \u001b[38;5;34m0\u001b[0m │\n",
       "├──────────────────────────────────────┼─────────────────────────────┼─────────────────┤\n",
       "│ flatten_1 (\u001b[38;5;33mFlatten\u001b[0m)                  │ (\u001b[38;5;45mNone\u001b[0m, \u001b[38;5;34m4608\u001b[0m)                │               \u001b[38;5;34m0\u001b[0m │\n",
       "├──────────────────────────────────────┼─────────────────────────────┼─────────────────┤\n",
       "│ dense_6 (\u001b[38;5;33mDense\u001b[0m)                      │ (\u001b[38;5;45mNone\u001b[0m, \u001b[38;5;34m232\u001b[0m)                 │       \u001b[38;5;34m1,069,288\u001b[0m │\n",
       "├──────────────────────────────────────┼─────────────────────────────┼─────────────────┤\n",
       "│ dense_7 (\u001b[38;5;33mDense\u001b[0m)                      │ (\u001b[38;5;45mNone\u001b[0m, \u001b[38;5;34m116\u001b[0m)                 │          \u001b[38;5;34m27,028\u001b[0m │\n",
       "├──────────────────────────────────────┼─────────────────────────────┼─────────────────┤\n",
       "│ dense_8 (\u001b[38;5;33mDense\u001b[0m)                      │ (\u001b[38;5;45mNone\u001b[0m, \u001b[38;5;34m18\u001b[0m)                  │           \u001b[38;5;34m2,106\u001b[0m │\n",
       "└──────────────────────────────────────┴─────────────────────────────┴─────────────────┘\n"
      ]
     },
     "metadata": {},
     "output_type": "display_data"
    },
    {
     "data": {
      "text/html": [
       "<pre style=\"white-space:pre;overflow-x:auto;line-height:normal;font-family:Menlo,'DejaVu Sans Mono',consolas,'Courier New',monospace\"><span style=\"font-weight: bold\"> Total params: </span><span style=\"color: #00af00; text-decoration-color: #00af00\">1,556,022</span> (5.94 MB)\n",
       "</pre>\n"
      ],
      "text/plain": [
       "\u001b[1m Total params: \u001b[0m\u001b[38;5;34m1,556,022\u001b[0m (5.94 MB)\n"
      ]
     },
     "metadata": {},
     "output_type": "display_data"
    },
    {
     "data": {
      "text/html": [
       "<pre style=\"white-space:pre;overflow-x:auto;line-height:normal;font-family:Menlo,'DejaVu Sans Mono',consolas,'Courier New',monospace\"><span style=\"font-weight: bold\"> Trainable params: </span><span style=\"color: #00af00; text-decoration-color: #00af00\">1,556,022</span> (5.94 MB)\n",
       "</pre>\n"
      ],
      "text/plain": [
       "\u001b[1m Trainable params: \u001b[0m\u001b[38;5;34m1,556,022\u001b[0m (5.94 MB)\n"
      ]
     },
     "metadata": {},
     "output_type": "display_data"
    },
    {
     "data": {
      "text/html": [
       "<pre style=\"white-space:pre;overflow-x:auto;line-height:normal;font-family:Menlo,'DejaVu Sans Mono',consolas,'Courier New',monospace\"><span style=\"font-weight: bold\"> Non-trainable params: </span><span style=\"color: #00af00; text-decoration-color: #00af00\">0</span> (0.00 B)\n",
       "</pre>\n"
      ],
      "text/plain": [
       "\u001b[1m Non-trainable params: \u001b[0m\u001b[38;5;34m0\u001b[0m (0.00 B)\n"
      ]
     },
     "metadata": {},
     "output_type": "display_data"
    }
   ],
   "source": [
    "cnnModel.summary()"
   ]
  },
  {
   "cell_type": "code",
   "execution_count": 67,
   "id": "58e7bcae-2b3d-4431-8d51-c3fe69e92be9",
   "metadata": {},
   "outputs": [],
   "source": [
    "cnnModel.compile(optimizer='adam', loss=tf.keras.losses.SparseCategoricalCrossentropy(from_logits=True), metrics=['accuracy'])"
   ]
  },
  {
   "cell_type": "code",
   "execution_count": 69,
   "id": "e35b1a49-95f3-41d5-8259-ef3ed50bfa5e",
   "metadata": {},
   "outputs": [
    {
     "name": "stdout",
     "output_type": "stream",
     "text": [
      "Epoch 1/12\n"
     ]
    },
    {
     "name": "stderr",
     "output_type": "stream",
     "text": [
      "C:\\Users\\manou\\AppData\\Roaming\\Python\\Python312\\site-packages\\keras\\src\\backend\\tensorflow\\nn.py:678: UserWarning: \"`sparse_categorical_crossentropy` received `from_logits=True`, but the `output` argument was produced by a Softmax activation and thus does not represent logits. Was this intended?\n",
      "  output, from_logits = _get_logits(\n"
     ]
    },
    {
     "name": "stdout",
     "output_type": "stream",
     "text": [
      "\u001b[1m111/111\u001b[0m \u001b[32m━━━━━━━━━━━━━━━━━━━━\u001b[0m\u001b[37m\u001b[0m \u001b[1m10s\u001b[0m 73ms/step - accuracy: 0.0892 - loss: 2.7067 - val_accuracy: 0.1798 - val_loss: 2.4710\n",
      "Epoch 2/12\n",
      "\u001b[1m111/111\u001b[0m \u001b[32m━━━━━━━━━━━━━━━━━━━━\u001b[0m\u001b[37m\u001b[0m \u001b[1m7s\u001b[0m 66ms/step - accuracy: 0.2215 - loss: 2.3655 - val_accuracy: 0.3246 - val_loss: 2.0486\n",
      "Epoch 3/12\n",
      "\u001b[1m111/111\u001b[0m \u001b[32m━━━━━━━━━━━━━━━━━━━━\u001b[0m\u001b[37m\u001b[0m \u001b[1m7s\u001b[0m 67ms/step - accuracy: 0.3380 - loss: 1.9683 - val_accuracy: 0.3633 - val_loss: 1.8761\n",
      "Epoch 4/12\n",
      "\u001b[1m111/111\u001b[0m \u001b[32m━━━━━━━━━━━━━━━━━━━━\u001b[0m\u001b[37m\u001b[0m \u001b[1m8s\u001b[0m 67ms/step - accuracy: 0.3912 - loss: 1.7962 - val_accuracy: 0.4320 - val_loss: 1.7141\n",
      "Epoch 5/12\n",
      "\u001b[1m111/111\u001b[0m \u001b[32m━━━━━━━━━━━━━━━━━━━━\u001b[0m\u001b[37m\u001b[0m \u001b[1m8s\u001b[0m 68ms/step - accuracy: 0.4748 - loss: 1.5439 - val_accuracy: 0.4569 - val_loss: 1.5924\n",
      "Epoch 6/12\n",
      "\u001b[1m111/111\u001b[0m \u001b[32m━━━━━━━━━━━━━━━━━━━━\u001b[0m\u001b[37m\u001b[0m \u001b[1m8s\u001b[0m 69ms/step - accuracy: 0.5862 - loss: 1.2312 - val_accuracy: 0.5169 - val_loss: 1.5260\n",
      "Epoch 7/12\n",
      "\u001b[1m111/111\u001b[0m \u001b[32m━━━━━━━━━━━━━━━━━━━━\u001b[0m\u001b[37m\u001b[0m \u001b[1m8s\u001b[0m 68ms/step - accuracy: 0.6768 - loss: 0.9433 - val_accuracy: 0.5768 - val_loss: 1.3689\n",
      "Epoch 8/12\n",
      "\u001b[1m111/111\u001b[0m \u001b[32m━━━━━━━━━━━━━━━━━━━━\u001b[0m\u001b[37m\u001b[0m \u001b[1m8s\u001b[0m 69ms/step - accuracy: 0.7674 - loss: 0.6836 - val_accuracy: 0.5830 - val_loss: 1.5502\n",
      "Epoch 9/12\n",
      "\u001b[1m111/111\u001b[0m \u001b[32m━━━━━━━━━━━━━━━━━━━━\u001b[0m\u001b[37m\u001b[0m \u001b[1m8s\u001b[0m 68ms/step - accuracy: 0.8398 - loss: 0.4848 - val_accuracy: 0.6155 - val_loss: 1.6558\n",
      "Epoch 10/12\n",
      "\u001b[1m111/111\u001b[0m \u001b[32m━━━━━━━━━━━━━━━━━━━━\u001b[0m\u001b[37m\u001b[0m \u001b[1m8s\u001b[0m 69ms/step - accuracy: 0.8830 - loss: 0.3412 - val_accuracy: 0.6442 - val_loss: 1.8140\n",
      "Epoch 11/12\n",
      "\u001b[1m111/111\u001b[0m \u001b[32m━━━━━━━━━━━━━━━━━━━━\u001b[0m\u001b[37m\u001b[0m \u001b[1m8s\u001b[0m 68ms/step - accuracy: 0.9074 - loss: 0.2737 - val_accuracy: 0.6542 - val_loss: 1.9239\n",
      "Epoch 12/12\n",
      "\u001b[1m111/111\u001b[0m \u001b[32m━━━━━━━━━━━━━━━━━━━━\u001b[0m\u001b[37m\u001b[0m \u001b[1m8s\u001b[0m 69ms/step - accuracy: 0.9378 - loss: 0.1850 - val_accuracy: 0.6355 - val_loss: 2.0353\n"
     ]
    }
   ],
   "source": [
    "# Prepare validation data\n",
    "validation_data_features, validation_data_labels = zip(*valid_data)\n",
    "validation_data_features = np.array(validation_data_features)\n",
    "validation_data_labels = np.array(validation_data_labels)\n",
    "\n",
    "# Normalize validation images\n",
    "validation_data_features = validation_data_features / 255.0\n",
    "validation_data_features = validation_data_features.reshape(-1, 90, 90, 1)\n",
    "\n",
    "# Train the model\n",
    "SignTraffic = cnnModel.fit(\n",
    "    training_data_features, \n",
    "    training_data_labels, \n",
    "    validation_data=(validation_data_features, validation_data_labels),\n",
    "    epochs=12, \n",
    "    batch_size=32\n",
    ")"
   ]
  },
  {
   "cell_type": "code",
   "execution_count": 71,
   "id": "99c77e3e-d055-4aa2-a0ff-a6de75febf41",
   "metadata": {},
   "outputs": [
    {
     "data": {
      "text/plain": [
       "<Axes: >"
      ]
     },
     "execution_count": 71,
     "metadata": {},
     "output_type": "execute_result"
    },
    {
     "data": {
      "image/png": "[encoded data removed]",
      "text/plain": [
       "<Figure size 640x480 with 1 Axes>"
      ]
     },
     "metadata": {},
     "output_type": "display_data"
    }
   ],
   "source": [
    "sns.lineplot(SignTraffic.history['accuracy'])"
   ]
  },
  {
   "cell_type": "code",
   "execution_count": 73,
   "id": "d65e8c2f-f744-47c8-a079-38167c21113c",
   "metadata": {},
   "outputs": [],
   "source": [
    "test_data_features, test_data_labels = zip(*test_data)\n",
    "test_data_features = np.array(test_data_features)\n",
    "test_data_labels = np.array(test_data_labels)"
   ]
  },
  {
   "cell_type": "code",
   "execution_count": 75,
   "id": "5931b6d1-e350-4f66-9033-d12f74f43030",
   "metadata": {},
   "outputs": [
    {
     "name": "stdout",
     "output_type": "stream",
     "text": [
      "\u001b[1m20/20\u001b[0m \u001b[32m━━━━━━━━━━━━━━━━━━━━\u001b[0m\u001b[37m\u001b[0m \u001b[1m1s\u001b[0m 20ms/step\n"
     ]
    },
    {
     "data": {
      "image/png": "[encoded data removed]",
      "text/plain": [
       "<Figure size 1000x700 with 2 Axes>"
      ]
     },
     "metadata": {},
     "output_type": "display_data"
    }
   ],
   "source": [
    "from sklearn.metrics import confusion_matrix\n",
    "import seaborn as sns\n",
    "\n",
    "# Predict the labels on the test data\n",
    "test_predictions = cnnModel.predict(test_data_features)\n",
    "# Convert predictions from probabilities to class labels (use argmax to get the index of the highest probability)\n",
    "test_predictions = np.argmax(test_predictions, axis=1)\n",
    "\n",
    "# Generate confusion matrix\n",
    "cm = confusion_matrix(test_data_labels, test_predictions)\n",
    "\n",
    "# Plot the confusion matrix using seaborn for better visualization\n",
    "plt.figure(figsize=(10, 7))\n",
    "sns.heatmap(cm, annot=True, fmt=\"d\", cmap=\"Blues\", xticklabels=np.unique(test_data_labels), yticklabels=np.unique(test_data_labels))\n",
    "plt.title('Confusion Matrix')\n",
    "plt.xlabel('Predicted Labels')\n",
    "plt.ylabel('True Labels')\n",
    "plt.show()"
   ]
  },
  {
   "cell_type": "code",
   "execution_count": 77,
   "id": "11b853e3-6651-4ba8-b834-f8455ca1c112",
   "metadata": {},
   "outputs": [
    {
     "name": "stdout",
     "output_type": "stream",
     "text": [
      "Class 0:\n",
      "True Positive (TP): 47\n",
      "False Positive (FP): 45\n",
      "False Negative (FN): 22\n",
      "True Negative (TN): 523\n",
      "Precision: 0.5109\n",
      "Recall: 0.6812\n",
      "F1-Score: 0.5839\n",
      "Accuracy: 0.8948\n",
      "\n",
      "Class 1:\n",
      "True Positive (TP): 25\n",
      "False Positive (FP): 28\n",
      "False Negative (FN): 31\n",
      "True Negative (TN): 553\n",
      "Precision: 0.4717\n",
      "Recall: 0.4464\n",
      "F1-Score: 0.4587\n",
      "Accuracy: 0.9074\n",
      "\n",
      "Class 2:\n",
      "True Positive (TP): 0\n",
      "False Positive (FP): 0\n",
      "False Negative (FN): 2\n",
      "True Negative (TN): 635\n",
      "Precision: 0.0000\n",
      "Recall: 0.0000\n",
      "F1-Score: 0.0000\n",
      "Accuracy: 0.9969\n",
      "\n",
      "Class 3:\n",
      "True Positive (TP): 24\n",
      "False Positive (FP): 64\n",
      "False Negative (FN): 17\n",
      "True Negative (TN): 532\n",
      "Precision: 0.2727\n",
      "Recall: 0.5854\n",
      "F1-Score: 0.3721\n",
      "Accuracy: 0.8728\n",
      "\n",
      "Class 4:\n",
      "True Positive (TP): 4\n",
      "False Positive (FP): 16\n",
      "False Negative (FN): 16\n",
      "True Negative (TN): 601\n",
      "Precision: 0.2000\n",
      "Recall: 0.2000\n",
      "F1-Score: 0.2000\n",
      "Accuracy: 0.9498\n",
      "\n",
      "Class 5:\n",
      "True Positive (TP): 12\n",
      "False Positive (FP): 15\n",
      "False Negative (FN): 23\n",
      "True Negative (TN): 587\n",
      "Precision: 0.4444\n",
      "Recall: 0.3429\n",
      "F1-Score: 0.3871\n",
      "Accuracy: 0.9403\n",
      "\n",
      "Class 6:\n",
      "True Positive (TP): 39\n",
      "False Positive (FP): 6\n",
      "False Negative (FN): 5\n",
      "True Negative (TN): 587\n",
      "Precision: 0.8667\n",
      "Recall: 0.8864\n",
      "F1-Score: 0.8764\n",
      "Accuracy: 0.9827\n",
      "\n",
      "Class 7:\n",
      "True Positive (TP): 36\n",
      "False Positive (FP): 52\n",
      "False Negative (FN): 20\n",
      "True Negative (TN): 529\n",
      "Precision: 0.4091\n",
      "Recall: 0.6429\n",
      "F1-Score: 0.5000\n",
      "Accuracy: 0.8870\n",
      "\n",
      "Class 8:\n",
      "True Positive (TP): 7\n",
      "False Positive (FP): 9\n",
      "False Negative (FN): 40\n",
      "True Negative (TN): 581\n",
      "Precision: 0.4375\n",
      "Recall: 0.1489\n",
      "F1-Score: 0.2222\n",
      "Accuracy: 0.9231\n",
      "\n",
      "Class 9:\n",
      "True Positive (TP): 17\n",
      "False Positive (FP): 27\n",
      "False Negative (FN): 28\n",
      "True Negative (TN): 565\n",
      "Precision: 0.3864\n",
      "Recall: 0.3778\n",
      "F1-Score: 0.3820\n",
      "Accuracy: 0.9137\n",
      "\n",
      "Class 10:\n",
      "True Positive (TP): 18\n",
      "False Positive (FP): 8\n",
      "False Negative (FN): 25\n",
      "True Negative (TN): 586\n",
      "Precision: 0.6923\n",
      "Recall: 0.4186\n",
      "F1-Score: 0.5217\n",
      "Accuracy: 0.9482\n",
      "\n",
      "Class 11:\n",
      "True Positive (TP): 28\n",
      "False Positive (FP): 16\n",
      "False Negative (FN): 19\n",
      "True Negative (TN): 574\n",
      "Precision: 0.6364\n",
      "Recall: 0.5957\n",
      "F1-Score: 0.6154\n",
      "Accuracy: 0.9451\n",
      "\n",
      "Class 12:\n",
      "True Positive (TP): 17\n",
      "False Positive (FP): 14\n",
      "False Negative (FN): 38\n",
      "True Negative (TN): 568\n",
      "Precision: 0.5484\n",
      "Recall: 0.3091\n",
      "F1-Score: 0.3953\n",
      "Accuracy: 0.9184\n",
      "\n",
      "Class 13:\n",
      "True Positive (TP): 6\n",
      "False Positive (FP): 10\n",
      "False Negative (FN): 24\n",
      "True Negative (TN): 597\n",
      "Precision: 0.3750\n",
      "Recall: 0.2000\n",
      "F1-Score: 0.2609\n",
      "Accuracy: 0.9466\n",
      "\n",
      "Class 14:\n",
      "True Positive (TP): 36\n",
      "False Positive (FP): 11\n",
      "False Negative (FN): 11\n",
      "True Negative (TN): 579\n",
      "Precision: 0.7660\n",
      "Recall: 0.7660\n",
      "F1-Score: 0.7660\n",
      "Accuracy: 0.9655\n",
      "\n"
     ]
    }
   ],
   "source": [
    "from sklearn.metrics import precision_score, recall_score, f1_score, accuracy_score\n",
    "\n",
    "# Calculate metrics for each class\n",
    "for i in range(cm.shape[0]):\n",
    "    tp = cm[i, i]\n",
    "    fp = cm[:, i].sum() - tp  # sum of the column - TP\n",
    "    fn = cm[i, :].sum() - tp  # sum of the row - TP\n",
    "    tn = cm.sum() - (tp + fp + fn)\n",
    "    \n",
    "    # Calculate Precision, Recall, F1-Score, and Accuracy\n",
    "    precision = tp / (tp + fp) if (tp + fp) != 0 else 0\n",
    "    recall = tp / (tp + fn) if (tp + fn) != 0 else 0\n",
    "    f1 = 2 * (precision * recall) / (precision + recall) if (precision + recall) != 0 else 0\n",
    "    accuracy = (tp + tn) / (tp + tn + fp + fn)\n",
    "    \n",
    "    print(f\"Class {i}:\")\n",
    "    print(f\"True Positive (TP): {tp}\")\n",
    "    print(f\"False Positive (FP): {fp}\")\n",
    "    print(f\"False Negative (FN): {fn}\")\n",
    "    print(f\"True Negative (TN): {tn}\")\n",
    "    print(f\"Precision: {precision:.4f}\")\n",
    "    print(f\"Recall: {recall:.4f}\")\n",
    "    print(f\"F1-Score: {f1:.4f}\")\n",
    "    print(f\"Accuracy: {accuracy:.4f}\")\n",
    "    print()\n"
   ]
  },
  {
   "cell_type": "code",
   "execution_count": 79,
   "id": "9651b6c5-9fb4-42cb-bbd1-51a95c4c791f",
   "metadata": {},
   "outputs": [
    {
     "name": "stdout",
     "output_type": "stream",
     "text": [
      "              precision    recall  f1-score   support\n",
      "\n",
      "           0       0.51      0.68      0.58        69\n",
      "           1       0.47      0.45      0.46        56\n",
      "           2       0.00      0.00      0.00         2\n",
      "           3       0.27      0.59      0.37        41\n",
      "           4       0.20      0.20      0.20        20\n",
      "           5       0.44      0.34      0.39        35\n",
      "           6       0.87      0.89      0.88        44\n",
      "           7       0.41      0.64      0.50        56\n",
      "           8       0.44      0.15      0.22        47\n",
      "           9       0.39      0.38      0.38        45\n",
      "          10       0.69      0.42      0.52        43\n",
      "          11       0.64      0.60      0.62        47\n",
      "          12       0.55      0.31      0.40        55\n",
      "          13       0.38      0.20      0.26        30\n",
      "          14       0.77      0.77      0.77        47\n",
      "\n",
      "    accuracy                           0.50       637\n",
      "   macro avg       0.47      0.44      0.44       637\n",
      "weighted avg       0.52      0.50      0.49       637\n",
      "\n"
     ]
    },
    {
     "name": "stderr",
     "output_type": "stream",
     "text": [
      "C:\\ProgramData\\anaconda3\\Lib\\site-packages\\sklearn\\metrics\\_classification.py:1509: UndefinedMetricWarning: Precision is ill-defined and being set to 0.0 in labels with no predicted samples. Use `zero_division` parameter to control this behavior.\n",
      "  _warn_prf(average, modifier, f\"{metric.capitalize()} is\", len(result))\n",
      "C:\\ProgramData\\anaconda3\\Lib\\site-packages\\sklearn\\metrics\\_classification.py:1509: UndefinedMetricWarning: Precision is ill-defined and being set to 0.0 in labels with no predicted samples. Use `zero_division` parameter to control this behavior.\n",
      "  _warn_prf(average, modifier, f\"{metric.capitalize()} is\", len(result))\n",
      "C:\\ProgramData\\anaconda3\\Lib\\site-packages\\sklearn\\metrics\\_classification.py:1509: UndefinedMetricWarning: Precision is ill-defined and being set to 0.0 in labels with no predicted samples. Use `zero_division` parameter to control this behavior.\n",
      "  _warn_prf(average, modifier, f\"{metric.capitalize()} is\", len(result))\n"
     ]
    }
   ],
   "source": [
    "from sklearn.metrics import classification_report\n",
    "print(classification_report(test_data_labels, test_predictions))"
   ]
  },
  {
   "cell_type": "code",
   "execution_count": 81,
   "id": "83f80f54-a069-44ae-a972-ac30fa5dc502",
   "metadata": {},
   "outputs": [
    {
     "name": "stderr",
     "output_type": "stream",
     "text": [
      "WARNING:absl:You are saving your model as an HDF5 file via `model.save()` or `keras.saving.save_model(model)`. This file format is considered legacy. We recommend using instead the native Keras format, e.g. `model.save('my_model.keras')` or `keras.saving.save_model(model, 'my_model.keras')`. \n"
     ]
    }
   ],
   "source": [
    "cnnModel.save(\"model.h5\")"
   ]
  },
  {
   "cell_type": "code",
   "execution_count": 83,
   "id": "50da1565-6fec-41bd-b41a-c3f30d44012f",
   "metadata": {},
   "outputs": [],
   "source": [
    "cnnModel.save(\"model.keras\")"
   ]
  }
 ],
 "metadata": {
  "kernelspec": {
   "display_name": "Python 3 (ipykernel)",
   "language": "python",
   "name": "python3"
  },
  "language_info": {
   "codemirror_mode": {
    "name": "ipython",
    "version": 3
   },
   "file_extension": ".py",
   "mimetype": "text/x-python",
   "name": "python",
   "nbconvert_exporter": "python",
   "pygments_lexer": "ipython3",
   "version": "3.12.4"
  }
 },
 "nbformat": 4,
 "nbformat_minor": 5
}
