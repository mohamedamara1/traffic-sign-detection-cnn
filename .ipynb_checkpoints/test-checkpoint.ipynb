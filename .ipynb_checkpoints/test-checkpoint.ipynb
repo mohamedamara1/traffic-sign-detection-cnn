{
 "cells": [
  {
   "cell_type": "code",
   "execution_count": 1,
   "id": "8c4d90c6-4d80-4b38-b9c4-366793f2355e",
   "metadata": {},
   "outputs": [],
   "source": [
    "import pandas as pd\n",
    "import numpy as np\n",
    "import tensorflow as tf\n",
    "from PIL import Image\n",
    "import os\n",
    "from sklearn.model_selection import train_test_split \n",
    "from keras.models import Sequential\n",
    "from keras.layers import Conv2D, MaxPool2D, Dense, Flatten, Dropout\n",
    "import matplotlib.pyplot as plt\n",
    "import plotly.express as px\n",
    "import random\n",
    "from keras.losses import SparseCategoricalCrossentropy"
   ]
  },
  {
   "cell_type": "code",
   "execution_count": 2,
   "id": "e281fdb6-c39a-451c-b959-777716bacfc8",
   "metadata": {},
   "outputs": [],
   "source": [
    "def fetch_image(data_folder):\n",
    "    train_data = []\n",
    "    test_data = []\n",
    "    valid_data = []\n",
    "    \n",
    "    splits = {\n",
    "        \"train\": os.path.join(data_folder, \"train\"),\n",
    "        \"test\": os.path.join(data_folder, \"test\"),\n",
    "        \"valid\": os.path.join(data_folder, \"valid\")\n",
    "    }\n",
    "    \n",
    "    for split_name, split_path in splits.items():\n",
    "        images_folder = os.path.join(split_path, \"images\")\n",
    "        labels_folder = os.path.join(split_path, \"labels\")\n",
    "        \n",
    "        for image_name in os.listdir(images_folder):\n",
    "            label_name = os.path.splitext(image_name)[0] + \".txt\"\n",
    "            label_path = os.path.join(labels_folder, label_name)\n",
    "            image_path = os.path.join(images_folder, image_name)\n",
    "            \n",
    "            if not os.path.exists(label_path):\n",
    "                print(f\"Warning: Label file not found for {image_name}\")\n",
    "                continue\n",
    "            \n",
    "            imgTrafficSignal = Image.open(image_path)\n",
    "            imgTrafficSignal = imgTrafficSignal.convert(\"L\")\n",
    "            imgTrafficSignal = imgTrafficSignal.resize((90, 90))\n",
    "            imgTrafficSignal = np.array(imgTrafficSignal)\n",
    "            \n",
    "            with open(label_path, \"r\") as label_file:\n",
    "                label_lines = label_file.readlines()\n",
    "                label_values = []\n",
    "                for line in label_lines:\n",
    "                    parts = line.strip().split()\n",
    "                    class_id = int(parts[0])  # First value is the class ID\n",
    "                    label_values.append(class_id)\n",
    "            \n",
    "            # Use only valid labels (remove -1 or any invalid labels)\n",
    "            valid_labels = [label for label in label_values if label >= 0]\n",
    "            \n",
    "            if not valid_labels:\n",
    "                print(f\"No valid labels for {image_name}\")\n",
    "                continue\n",
    "            \n",
    "            # Use the first valid label\n",
    "            first_label = valid_labels[0]\n",
    "            \n",
    "            if split_name == \"train\":\n",
    "                train_data.append((imgTrafficSignal, first_label))\n",
    "            elif split_name == \"test\":\n",
    "                test_data.append((imgTrafficSignal, first_label))\n",
    "            elif split_name == \"valid\":\n",
    "                valid_data.append((imgTrafficSignal, first_label))\n",
    "    \n",
    "    return train_data, test_data, valid_data"
   ]
  },
  {
   "cell_type": "code",
   "execution_count": 3,
   "id": "ffeea084-4600-4072-bb09-e2462389f98a",
   "metadata": {},
   "outputs": [
    {
     "name": "stdout",
     "output_type": "stream",
     "text": [
      "No valid labels for FisheyeCamera_1_00802_png.rf.6a502d781364b74f35bfa71832fc1ede.jpg\n",
      "No valid labels for FisheyeCamera_1_00807_png.rf.065f778b2eaf15dd7b5beb90b30c490c.jpg\n",
      "No valid labels for FisheyeCamera_1_00926_png.rf.511cfac04ff48a1fe99b560b4a4fb9e2.jpg\n",
      "No valid labels for FisheyeCamera_1_00922_png.rf.408835a278b9c700eb1a2f358ca58d07.jpg\n"
     ]
    }
   ],
   "source": [
    "data_folder = \"./DataSet\"\n",
    "train_data, test_data, valid_data = fetch_image(data_folder)"
   ]
  },
  {
   "cell_type": "code",
   "execution_count": 4,
   "id": "c63d84ef-faa2-440a-9045-fb3f1f2912b2",
   "metadata": {},
   "outputs": [],
   "source": [
    "# Prepare training data features and labels\n",
    "training_data_features, training_data_labels = zip(*train_data)\n",
    "training_data_features = np.array(training_data_features)\n",
    "training_data_labels = np.array(training_data_labels)\n",
    "\n",
    "# Normalize the images\n",
    "training_data_features = training_data_features / 255.0\n",
    "\n",
    "# Reshape for CNN (add channel dimension)\n",
    "training_data_features = training_data_features.reshape(-1, 90, 90, 1)"
   ]
  },
  {
   "cell_type": "code",
   "execution_count": 5,
   "id": "04437d5a-f459-448e-8767-0613c75021cd",
   "metadata": {},
   "outputs": [
    {
     "name": "stdout",
     "output_type": "stream",
     "text": [
      "Label 0: 317 occurrences\n",
      "Label 1: 326 occurrences\n",
      "Label 2: 11 occurrences\n",
      "Label 3: 225 occurrences\n",
      "Label 4: 86 occurrences\n",
      "Label 5: 222 occurrences\n",
      "Label 6: 264 occurrences\n",
      "Label 7: 312 occurrences\n",
      "Label 8: 214 occurrences\n",
      "Label 9: 249 occurrences\n",
      "Label 10: 286 occurrences\n",
      "Label 11: 298 occurrences\n",
      "Label 12: 297 occurrences\n",
      "Label 13: 142 occurrences\n",
      "Label 14: 278 occurrences\n"
     ]
    }
   ],
   "source": [
    "unique_labels, label_counts = np.unique(training_data_labels, return_counts=True)\n",
    "for label, count in zip(unique_labels, label_counts):\n",
    "    print(f\"Label {label}: {count} occurrences\")"
   ]
  },
  {
   "cell_type": "code",
   "execution_count": 6,
   "id": "6a43886b-8e1b-4d3d-9183-71455028a2ab",
   "metadata": {},
   "outputs": [
    {
     "name": "stderr",
     "output_type": "stream",
     "text": [
      "C:\\Users\\manou\\AppData\\Roaming\\Python\\Python312\\site-packages\\keras\\src\\layers\\convolutional\\base_conv.py:107: UserWarning: Do not pass an `input_shape`/`input_dim` argument to a layer. When using Sequential models, prefer using an `Input(shape)` object as the first layer in the model instead.\n",
      "  super().__init__(activity_regularizer=activity_regularizer, **kwargs)\n",
      "C:\\Users\\manou\\AppData\\Roaming\\Python\\Python312\\site-packages\\keras\\src\\layers\\activations\\leaky_relu.py:41: UserWarning: Argument `alpha` is deprecated. Use `negative_slope` instead.\n",
      "  warnings.warn(\n"
     ]
    }
   ],
   "source": [
    "from keras.layers import LeakyReLU, Conv2D, MaxPooling2D, Flatten, Dense\n",
    "cnnModel = Sequential()\n",
    "cnnModel.add(Conv2D(32, kernel_size=(3, 3), activation='linear', input_shape=(90, 90, 1), padding='same'))\n",
    "cnnModel.add(LeakyReLU(alpha=0.1))\n",
    "cnnModel.add(MaxPooling2D((2, 2), padding='same'))\n",
    "cnnModel.add(Conv2D(64, (3, 3), activation='linear', padding='same'))\n",
    "cnnModel.add(LeakyReLU(alpha=0.1))\n",
    "cnnModel.add(MaxPooling2D(pool_size=(2, 2), padding='same'))\n",
    "cnnModel.add(Conv2D(128, (3, 3), activation='linear', padding='same'))\n",
    "cnnModel.add(LeakyReLU(alpha=0.1))                  \n",
    "cnnModel.add(MaxPooling2D(pool_size=(2, 2), padding='same'))\n",
    "cnnModel.add(Flatten())\n",
    "cnnModel.add(Dense(128, activation='linear'))\n",
    "cnnModel.add(LeakyReLU(alpha=0.1))                  \n",
    "cnnModel.add(Dense(15, activation='softmax'))"
   ]
  },
  {
   "cell_type": "code",
   "execution_count": 7,
   "id": "8a0559d0-267f-45cf-9d92-c3c93561d036",
   "metadata": {},
   "outputs": [
    {
     "data": {
      "text/html": [
       "<pre style=\"white-space:pre;overflow-x:auto;line-height:normal;font-family:Menlo,'DejaVu Sans Mono',consolas,'Courier New',monospace\"><span style=\"font-weight: bold\">Model: \"sequential\"</span>\n",
       "</pre>\n"
      ],
      "text/plain": [
       "\u001b[1mModel: \"sequential\"\u001b[0m\n"
      ]
     },
     "metadata": {},
     "output_type": "display_data"
    },
    {
     "data": {
      "text/html": [
       "<pre style=\"white-space:pre;overflow-x:auto;line-height:normal;font-family:Menlo,'DejaVu Sans Mono',consolas,'Courier New',monospace\">┏━━━━━━━━━━━━━━━━━━━━━━━━━━━━━━━━━━━━━━┳━━━━━━━━━━━━━━━━━━━━━━━━━━━━━┳━━━━━━━━━━━━━━━━━┓\n",
       "┃<span style=\"font-weight: bold\"> Layer (type)                         </span>┃<span style=\"font-weight: bold\"> Output Shape                </span>┃<span style=\"font-weight: bold\">         Param # </span>┃\n",
       "┡━━━━━━━━━━━━━━━━━━━━━━━━━━━━━━━━━━━━━━╇━━━━━━━━━━━━━━━━━━━━━━━━━━━━━╇━━━━━━━━━━━━━━━━━┩\n",
       "│ conv2d (<span style=\"color: #0087ff; text-decoration-color: #0087ff\">Conv2D</span>)                      │ (<span style=\"color: #00d7ff; text-decoration-color: #00d7ff\">None</span>, <span style=\"color: #00af00; text-decoration-color: #00af00\">90</span>, <span style=\"color: #00af00; text-decoration-color: #00af00\">90</span>, <span style=\"color: #00af00; text-decoration-color: #00af00\">32</span>)          │             <span style=\"color: #00af00; text-decoration-color: #00af00\">320</span> │\n",
       "├──────────────────────────────────────┼─────────────────────────────┼─────────────────┤\n",
       "│ leaky_re_lu (<span style=\"color: #0087ff; text-decoration-color: #0087ff\">LeakyReLU</span>)              │ (<span style=\"color: #00d7ff; text-decoration-color: #00d7ff\">None</span>, <span style=\"color: #00af00; text-decoration-color: #00af00\">90</span>, <span style=\"color: #00af00; text-decoration-color: #00af00\">90</span>, <span style=\"color: #00af00; text-decoration-color: #00af00\">32</span>)          │               <span style=\"color: #00af00; text-decoration-color: #00af00\">0</span> │\n",
       "├──────────────────────────────────────┼─────────────────────────────┼─────────────────┤\n",
       "│ max_pooling2d (<span style=\"color: #0087ff; text-decoration-color: #0087ff\">MaxPooling2D</span>)         │ (<span style=\"color: #00d7ff; text-decoration-color: #00d7ff\">None</span>, <span style=\"color: #00af00; text-decoration-color: #00af00\">45</span>, <span style=\"color: #00af00; text-decoration-color: #00af00\">45</span>, <span style=\"color: #00af00; text-decoration-color: #00af00\">32</span>)          │               <span style=\"color: #00af00; text-decoration-color: #00af00\">0</span> │\n",
       "├──────────────────────────────────────┼─────────────────────────────┼─────────────────┤\n",
       "│ conv2d_1 (<span style=\"color: #0087ff; text-decoration-color: #0087ff\">Conv2D</span>)                    │ (<span style=\"color: #00d7ff; text-decoration-color: #00d7ff\">None</span>, <span style=\"color: #00af00; text-decoration-color: #00af00\">45</span>, <span style=\"color: #00af00; text-decoration-color: #00af00\">45</span>, <span style=\"color: #00af00; text-decoration-color: #00af00\">64</span>)          │          <span style=\"color: #00af00; text-decoration-color: #00af00\">18,496</span> │\n",
       "├──────────────────────────────────────┼─────────────────────────────┼─────────────────┤\n",
       "│ leaky_re_lu_1 (<span style=\"color: #0087ff; text-decoration-color: #0087ff\">LeakyReLU</span>)            │ (<span style=\"color: #00d7ff; text-decoration-color: #00d7ff\">None</span>, <span style=\"color: #00af00; text-decoration-color: #00af00\">45</span>, <span style=\"color: #00af00; text-decoration-color: #00af00\">45</span>, <span style=\"color: #00af00; text-decoration-color: #00af00\">64</span>)          │               <span style=\"color: #00af00; text-decoration-color: #00af00\">0</span> │\n",
       "├──────────────────────────────────────┼─────────────────────────────┼─────────────────┤\n",
       "│ max_pooling2d_1 (<span style=\"color: #0087ff; text-decoration-color: #0087ff\">MaxPooling2D</span>)       │ (<span style=\"color: #00d7ff; text-decoration-color: #00d7ff\">None</span>, <span style=\"color: #00af00; text-decoration-color: #00af00\">23</span>, <span style=\"color: #00af00; text-decoration-color: #00af00\">23</span>, <span style=\"color: #00af00; text-decoration-color: #00af00\">64</span>)          │               <span style=\"color: #00af00; text-decoration-color: #00af00\">0</span> │\n",
       "├──────────────────────────────────────┼─────────────────────────────┼─────────────────┤\n",
       "│ conv2d_2 (<span style=\"color: #0087ff; text-decoration-color: #0087ff\">Conv2D</span>)                    │ (<span style=\"color: #00d7ff; text-decoration-color: #00d7ff\">None</span>, <span style=\"color: #00af00; text-decoration-color: #00af00\">23</span>, <span style=\"color: #00af00; text-decoration-color: #00af00\">23</span>, <span style=\"color: #00af00; text-decoration-color: #00af00\">128</span>)         │          <span style=\"color: #00af00; text-decoration-color: #00af00\">73,856</span> │\n",
       "├──────────────────────────────────────┼─────────────────────────────┼─────────────────┤\n",
       "│ leaky_re_lu_2 (<span style=\"color: #0087ff; text-decoration-color: #0087ff\">LeakyReLU</span>)            │ (<span style=\"color: #00d7ff; text-decoration-color: #00d7ff\">None</span>, <span style=\"color: #00af00; text-decoration-color: #00af00\">23</span>, <span style=\"color: #00af00; text-decoration-color: #00af00\">23</span>, <span style=\"color: #00af00; text-decoration-color: #00af00\">128</span>)         │               <span style=\"color: #00af00; text-decoration-color: #00af00\">0</span> │\n",
       "├──────────────────────────────────────┼─────────────────────────────┼─────────────────┤\n",
       "│ max_pooling2d_2 (<span style=\"color: #0087ff; text-decoration-color: #0087ff\">MaxPooling2D</span>)       │ (<span style=\"color: #00d7ff; text-decoration-color: #00d7ff\">None</span>, <span style=\"color: #00af00; text-decoration-color: #00af00\">12</span>, <span style=\"color: #00af00; text-decoration-color: #00af00\">12</span>, <span style=\"color: #00af00; text-decoration-color: #00af00\">128</span>)         │               <span style=\"color: #00af00; text-decoration-color: #00af00\">0</span> │\n",
       "├──────────────────────────────────────┼─────────────────────────────┼─────────────────┤\n",
       "│ flatten (<span style=\"color: #0087ff; text-decoration-color: #0087ff\">Flatten</span>)                    │ (<span style=\"color: #00d7ff; text-decoration-color: #00d7ff\">None</span>, <span style=\"color: #00af00; text-decoration-color: #00af00\">18432</span>)               │               <span style=\"color: #00af00; text-decoration-color: #00af00\">0</span> │\n",
       "├──────────────────────────────────────┼─────────────────────────────┼─────────────────┤\n",
       "│ dense (<span style=\"color: #0087ff; text-decoration-color: #0087ff\">Dense</span>)                        │ (<span style=\"color: #00d7ff; text-decoration-color: #00d7ff\">None</span>, <span style=\"color: #00af00; text-decoration-color: #00af00\">128</span>)                 │       <span style=\"color: #00af00; text-decoration-color: #00af00\">2,359,424</span> │\n",
       "├──────────────────────────────────────┼─────────────────────────────┼─────────────────┤\n",
       "│ leaky_re_lu_3 (<span style=\"color: #0087ff; text-decoration-color: #0087ff\">LeakyReLU</span>)            │ (<span style=\"color: #00d7ff; text-decoration-color: #00d7ff\">None</span>, <span style=\"color: #00af00; text-decoration-color: #00af00\">128</span>)                 │               <span style=\"color: #00af00; text-decoration-color: #00af00\">0</span> │\n",
       "├──────────────────────────────────────┼─────────────────────────────┼─────────────────┤\n",
       "│ dense_1 (<span style=\"color: #0087ff; text-decoration-color: #0087ff\">Dense</span>)                      │ (<span style=\"color: #00d7ff; text-decoration-color: #00d7ff\">None</span>, <span style=\"color: #00af00; text-decoration-color: #00af00\">15</span>)                  │           <span style=\"color: #00af00; text-decoration-color: #00af00\">1,935</span> │\n",
       "└──────────────────────────────────────┴─────────────────────────────┴─────────────────┘\n",
       "</pre>\n"
      ],
      "text/plain": [
       "┏━━━━━━━━━━━━━━━━━━━━━━━━━━━━━━━━━━━━━━┳━━━━━━━━━━━━━━━━━━━━━━━━━━━━━┳━━━━━━━━━━━━━━━━━┓\n",
       "┃\u001b[1m \u001b[0m\u001b[1mLayer (type)                        \u001b[0m\u001b[1m \u001b[0m┃\u001b[1m \u001b[0m\u001b[1mOutput Shape               \u001b[0m\u001b[1m \u001b[0m┃\u001b[1m \u001b[0m\u001b[1m        Param #\u001b[0m\u001b[1m \u001b[0m┃\n",
       "┡━━━━━━━━━━━━━━━━━━━━━━━━━━━━━━━━━━━━━━╇━━━━━━━━━━━━━━━━━━━━━━━━━━━━━╇━━━━━━━━━━━━━━━━━┩\n",
       "│ conv2d (\u001b[38;5;33mConv2D\u001b[0m)                      │ (\u001b[38;5;45mNone\u001b[0m, \u001b[38;5;34m90\u001b[0m, \u001b[38;5;34m90\u001b[0m, \u001b[38;5;34m32\u001b[0m)          │             \u001b[38;5;34m320\u001b[0m │\n",
       "├──────────────────────────────────────┼─────────────────────────────┼─────────────────┤\n",
       "│ leaky_re_lu (\u001b[38;5;33mLeakyReLU\u001b[0m)              │ (\u001b[38;5;45mNone\u001b[0m, \u001b[38;5;34m90\u001b[0m, \u001b[38;5;34m90\u001b[0m, \u001b[38;5;34m32\u001b[0m)          │               \u001b[38;5;34m0\u001b[0m │\n",
       "├──────────────────────────────────────┼─────────────────────────────┼─────────────────┤\n",
       "│ max_pooling2d (\u001b[38;5;33mMaxPooling2D\u001b[0m)         │ (\u001b[38;5;45mNone\u001b[0m, \u001b[38;5;34m45\u001b[0m, \u001b[38;5;34m45\u001b[0m, \u001b[38;5;34m32\u001b[0m)          │               \u001b[38;5;34m0\u001b[0m │\n",
       "├──────────────────────────────────────┼─────────────────────────────┼─────────────────┤\n",
       "│ conv2d_1 (\u001b[38;5;33mConv2D\u001b[0m)                    │ (\u001b[38;5;45mNone\u001b[0m, \u001b[38;5;34m45\u001b[0m, \u001b[38;5;34m45\u001b[0m, \u001b[38;5;34m64\u001b[0m)          │          \u001b[38;5;34m18,496\u001b[0m │\n",
       "├──────────────────────────────────────┼─────────────────────────────┼─────────────────┤\n",
       "│ leaky_re_lu_1 (\u001b[38;5;33mLeakyReLU\u001b[0m)            │ (\u001b[38;5;45mNone\u001b[0m, \u001b[38;5;34m45\u001b[0m, \u001b[38;5;34m45\u001b[0m, \u001b[38;5;34m64\u001b[0m)          │               \u001b[38;5;34m0\u001b[0m │\n",
       "├──────────────────────────────────────┼─────────────────────────────┼─────────────────┤\n",
       "│ max_pooling2d_1 (\u001b[38;5;33mMaxPooling2D\u001b[0m)       │ (\u001b[38;5;45mNone\u001b[0m, \u001b[38;5;34m23\u001b[0m, \u001b[38;5;34m23\u001b[0m, \u001b[38;5;34m64\u001b[0m)          │               \u001b[38;5;34m0\u001b[0m │\n",
       "├──────────────────────────────────────┼─────────────────────────────┼─────────────────┤\n",
       "│ conv2d_2 (\u001b[38;5;33mConv2D\u001b[0m)                    │ (\u001b[38;5;45mNone\u001b[0m, \u001b[38;5;34m23\u001b[0m, \u001b[38;5;34m23\u001b[0m, \u001b[38;5;34m128\u001b[0m)         │          \u001b[38;5;34m73,856\u001b[0m │\n",
       "├──────────────────────────────────────┼─────────────────────────────┼─────────────────┤\n",
       "│ leaky_re_lu_2 (\u001b[38;5;33mLeakyReLU\u001b[0m)            │ (\u001b[38;5;45mNone\u001b[0m, \u001b[38;5;34m23\u001b[0m, \u001b[38;5;34m23\u001b[0m, \u001b[38;5;34m128\u001b[0m)         │               \u001b[38;5;34m0\u001b[0m │\n",
       "├──────────────────────────────────────┼─────────────────────────────┼─────────────────┤\n",
       "│ max_pooling2d_2 (\u001b[38;5;33mMaxPooling2D\u001b[0m)       │ (\u001b[38;5;45mNone\u001b[0m, \u001b[38;5;34m12\u001b[0m, \u001b[38;5;34m12\u001b[0m, \u001b[38;5;34m128\u001b[0m)         │               \u001b[38;5;34m0\u001b[0m │\n",
       "├──────────────────────────────────────┼─────────────────────────────┼─────────────────┤\n",
       "│ flatten (\u001b[38;5;33mFlatten\u001b[0m)                    │ (\u001b[38;5;45mNone\u001b[0m, \u001b[38;5;34m18432\u001b[0m)               │               \u001b[38;5;34m0\u001b[0m │\n",
       "├──────────────────────────────────────┼─────────────────────────────┼─────────────────┤\n",
       "│ dense (\u001b[38;5;33mDense\u001b[0m)                        │ (\u001b[38;5;45mNone\u001b[0m, \u001b[38;5;34m128\u001b[0m)                 │       \u001b[38;5;34m2,359,424\u001b[0m │\n",
       "├──────────────────────────────────────┼─────────────────────────────┼─────────────────┤\n",
       "│ leaky_re_lu_3 (\u001b[38;5;33mLeakyReLU\u001b[0m)            │ (\u001b[38;5;45mNone\u001b[0m, \u001b[38;5;34m128\u001b[0m)                 │               \u001b[38;5;34m0\u001b[0m │\n",
       "├──────────────────────────────────────┼─────────────────────────────┼─────────────────┤\n",
       "│ dense_1 (\u001b[38;5;33mDense\u001b[0m)                      │ (\u001b[38;5;45mNone\u001b[0m, \u001b[38;5;34m15\u001b[0m)                  │           \u001b[38;5;34m1,935\u001b[0m │\n",
       "└──────────────────────────────────────┴─────────────────────────────┴─────────────────┘\n"
      ]
     },
     "metadata": {},
     "output_type": "display_data"
    },
    {
     "data": {
      "text/html": [
       "<pre style=\"white-space:pre;overflow-x:auto;line-height:normal;font-family:Menlo,'DejaVu Sans Mono',consolas,'Courier New',monospace\"><span style=\"font-weight: bold\"> Total params: </span><span style=\"color: #00af00; text-decoration-color: #00af00\">2,454,031</span> (9.36 MB)\n",
       "</pre>\n"
      ],
      "text/plain": [
       "\u001b[1m Total params: \u001b[0m\u001b[38;5;34m2,454,031\u001b[0m (9.36 MB)\n"
      ]
     },
     "metadata": {},
     "output_type": "display_data"
    },
    {
     "data": {
      "text/html": [
       "<pre style=\"white-space:pre;overflow-x:auto;line-height:normal;font-family:Menlo,'DejaVu Sans Mono',consolas,'Courier New',monospace\"><span style=\"font-weight: bold\"> Trainable params: </span><span style=\"color: #00af00; text-decoration-color: #00af00\">2,454,031</span> (9.36 MB)\n",
       "</pre>\n"
      ],
      "text/plain": [
       "\u001b[1m Trainable params: \u001b[0m\u001b[38;5;34m2,454,031\u001b[0m (9.36 MB)\n"
      ]
     },
     "metadata": {},
     "output_type": "display_data"
    },
    {
     "data": {
      "text/html": [
       "<pre style=\"white-space:pre;overflow-x:auto;line-height:normal;font-family:Menlo,'DejaVu Sans Mono',consolas,'Courier New',monospace\"><span style=\"font-weight: bold\"> Non-trainable params: </span><span style=\"color: #00af00; text-decoration-color: #00af00\">0</span> (0.00 B)\n",
       "</pre>\n"
      ],
      "text/plain": [
       "\u001b[1m Non-trainable params: \u001b[0m\u001b[38;5;34m0\u001b[0m (0.00 B)\n"
      ]
     },
     "metadata": {},
     "output_type": "display_data"
    }
   ],
   "source": [
    "cnnModel.summary()"
   ]
  },
  {
   "cell_type": "code",
   "execution_count": 19,
   "id": "58e7bcae-2b3d-4431-8d51-c3fe69e92be9",
   "metadata": {},
   "outputs": [],
   "source": [
    "cnnModel.compile(optimizer=tf.keras.optimizers.Adam(learning_rate=0.001), \n",
    "                  loss=tf.keras.losses.SparseCategoricalCrossentropy(from_logits=True), \n",
    "                  metrics=['accuracy'])"
   ]
  },
  {
   "cell_type": "code",
   "execution_count": 9,
   "id": "e35b1a49-95f3-41d5-8259-ef3ed50bfa5e",
   "metadata": {},
   "outputs": [
    {
     "name": "stdout",
     "output_type": "stream",
     "text": [
      "Epoch 1/10\n"
     ]
    },
    {
     "name": "stderr",
     "output_type": "stream",
     "text": [
      "C:\\Users\\manou\\AppData\\Roaming\\Python\\Python312\\site-packages\\keras\\src\\backend\\tensorflow\\nn.py:678: UserWarning: \"`sparse_categorical_crossentropy` received `from_logits=True`, but the `output` argument was produced by a Softmax activation and thus does not represent logits. Was this intended?\n",
      "  output, from_logits = _get_logits(\n"
     ]
    },
    {
     "name": "stdout",
     "output_type": "stream",
     "text": [
      "\u001b[1m111/111\u001b[0m \u001b[32m━━━━━━━━━━━━━━━━━━━━\u001b[0m\u001b[37m\u001b[0m \u001b[1m14s\u001b[0m 105ms/step - accuracy: 0.1664 - loss: 2.5247 - val_accuracy: 0.3620 - val_loss: 1.9272\n",
      "Epoch 2/10\n",
      "\u001b[1m111/111\u001b[0m \u001b[32m━━━━━━━━━━━━━━━━━━━━\u001b[0m\u001b[37m\u001b[0m \u001b[1m13s\u001b[0m 120ms/step - accuracy: 0.4219 - loss: 1.7992 - val_accuracy: 0.4819 - val_loss: 1.5826\n",
      "Epoch 3/10\n",
      "\u001b[1m111/111\u001b[0m \u001b[32m━━━━━━━━━━━━━━━━━━━━\u001b[0m\u001b[37m\u001b[0m \u001b[1m14s\u001b[0m 124ms/step - accuracy: 0.5882 - loss: 1.2857 - val_accuracy: 0.5256 - val_loss: 1.5019\n",
      "Epoch 4/10\n",
      "\u001b[1m111/111\u001b[0m \u001b[32m━━━━━━━━━━━━━━━━━━━━\u001b[0m\u001b[37m\u001b[0m \u001b[1m13s\u001b[0m 117ms/step - accuracy: 0.7043 - loss: 0.8874 - val_accuracy: 0.6342 - val_loss: 1.3307\n",
      "Epoch 5/10\n",
      "\u001b[1m111/111\u001b[0m \u001b[32m━━━━━━━━━━━━━━━━━━━━\u001b[0m\u001b[37m\u001b[0m \u001b[1m13s\u001b[0m 119ms/step - accuracy: 0.8466 - loss: 0.4911 - val_accuracy: 0.6567 - val_loss: 1.3528\n",
      "Epoch 6/10\n",
      "\u001b[1m111/111\u001b[0m \u001b[32m━━━━━━━━━━━━━━━━━━━━\u001b[0m\u001b[37m\u001b[0m \u001b[1m13s\u001b[0m 117ms/step - accuracy: 0.8990 - loss: 0.3421 - val_accuracy: 0.6567 - val_loss: 1.6922\n",
      "Epoch 7/10\n",
      "\u001b[1m111/111\u001b[0m \u001b[32m━━━━━━━━━━━━━━━━━━━━\u001b[0m\u001b[37m\u001b[0m \u001b[1m18s\u001b[0m 163ms/step - accuracy: 0.9380 - loss: 0.1929 - val_accuracy: 0.6517 - val_loss: 1.8531\n",
      "Epoch 8/10\n",
      "\u001b[1m111/111\u001b[0m \u001b[32m━━━━━━━━━━━━━━━━━━━━\u001b[0m\u001b[37m\u001b[0m \u001b[1m17s\u001b[0m 152ms/step - accuracy: 0.9409 - loss: 0.2064 - val_accuracy: 0.6704 - val_loss: 1.8074\n",
      "Epoch 9/10\n",
      "\u001b[1m111/111\u001b[0m \u001b[32m━━━━━━━━━━━━━━━━━━━━\u001b[0m\u001b[37m\u001b[0m \u001b[1m17s\u001b[0m 152ms/step - accuracy: 0.9535 - loss: 0.1380 - val_accuracy: 0.6654 - val_loss: 1.8734\n",
      "Epoch 10/10\n",
      "\u001b[1m111/111\u001b[0m \u001b[32m━━━━━━━━━━━━━━━━━━━━\u001b[0m\u001b[37m\u001b[0m \u001b[1m17s\u001b[0m 150ms/step - accuracy: 0.9598 - loss: 0.1295 - val_accuracy: 0.6429 - val_loss: 2.4045\n"
     ]
    }
   ],
   "source": [
    "# Prepare validation data\n",
    "validation_data_features, validation_data_labels = zip(*valid_data)\n",
    "validation_data_features = np.array(validation_data_features)\n",
    "validation_data_labels = np.array(validation_data_labels)\n",
    "\n",
    "# Normalize validation images\n",
    "validation_data_features = validation_data_features / 255.0\n",
    "validation_data_features = validation_data_features.reshape(-1, 90, 90, 1)\n",
    "\n",
    "# Train the model\n",
    "SignTraffic = cnnModel.fit(\n",
    "    training_data_features, \n",
    "    training_data_labels, \n",
    "    validation_data=(validation_data_features, validation_data_labels),\n",
    "    epochs=10, \n",
    "    batch_size=32\n",
    ")"
   ]
  },
  {
   "cell_type": "code",
   "execution_count": 23,
   "id": "99c77e3e-d055-4aa2-a0ff-a6de75febf41",
   "metadata": {},
   "outputs": [
    {
     "data": {
      "text/plain": [
       "<Axes: >"
      ]
     },
     "execution_count": 23,
     "metadata": {},
     "output_type": "execute_result"
    },
    {
     "data": {
      "image/png": "[encoded data removed]",
      "text/plain": [
       "<Figure size 640x480 with 1 Axes>"
      ]
     },
     "metadata": {},
     "output_type": "display_data"
    }
   ],
   "source": [
    "import seaborn as sns\n",
    "sns.lineplot(SignTraffic.history['accuracy'])"
   ]
  },
  {
   "cell_type": "code",
   "execution_count": 25,
   "id": "d65e8c2f-f744-47c8-a079-38167c21113c",
   "metadata": {},
   "outputs": [],
   "source": [
    "test_data_features, test_data_labels = zip(*test_data)\n",
    "test_data_features = np.array(test_data_features)\n",
    "test_data_labels = np.array(test_data_labels)"
   ]
  },
  {
   "cell_type": "code",
   "execution_count": 27,
   "id": "5931b6d1-e350-4f66-9033-d12f74f43030",
   "metadata": {},
   "outputs": [
    {
     "name": "stdout",
     "output_type": "stream",
     "text": [
      "\u001b[1m20/20\u001b[0m \u001b[32m━━━━━━━━━━━━━━━━━━━━\u001b[0m\u001b[37m\u001b[0m \u001b[1m1s\u001b[0m 28ms/step\n"
     ]
    },
    {
     "data": {
      "image/png": "[encoded data removed]",
      "text/plain": [
       "<Figure size 1000x700 with 2 Axes>"
      ]
     },
     "metadata": {},
     "output_type": "display_data"
    }
   ],
   "source": [
    "from sklearn.metrics import confusion_matrix\n",
    "import seaborn as sns\n",
    "\n",
    "# Predict the labels on the test data\n",
    "test_predictions = cnnModel.predict(test_data_features)\n",
    "# Convert predictions from probabilities to class labels (use argmax to get the index of the highest probability)\n",
    "test_predictions = np.argmax(test_predictions, axis=1)\n",
    "\n",
    "# Generate confusion matrix\n",
    "cm = confusion_matrix(test_data_labels, test_predictions)\n",
    "\n",
    "# Plot the confusion matrix using seaborn for better visualization\n",
    "plt.figure(figsize=(10, 7))\n",
    "sns.heatmap(cm, annot=True, fmt=\"d\", cmap=\"Blues\", xticklabels=np.unique(test_data_labels), yticklabels=np.unique(test_data_labels))\n",
    "plt.title('Confusion Matrix')\n",
    "plt.xlabel('Predicted Labels')\n",
    "plt.ylabel('True Labels')\n",
    "plt.show()"
   ]
  },
  {
   "cell_type": "code",
   "execution_count": 29,
   "id": "11b853e3-6651-4ba8-b834-f8455ca1c112",
   "metadata": {},
   "outputs": [
    {
     "name": "stdout",
     "output_type": "stream",
     "text": [
      "Class 0:\n",
      "True Positive (TP): 36\n",
      "False Positive (FP): 34\n",
      "False Negative (FN): 33\n",
      "True Negative (TN): 534\n",
      "Precision: 0.5143\n",
      "Recall: 0.5217\n",
      "F1-Score: 0.5180\n",
      "Accuracy: 0.8948\n",
      "\n",
      "Class 1:\n",
      "True Positive (TP): 26\n",
      "False Positive (FP): 20\n",
      "False Negative (FN): 30\n",
      "True Negative (TN): 561\n",
      "Precision: 0.5652\n",
      "Recall: 0.4643\n",
      "F1-Score: 0.5098\n",
      "Accuracy: 0.9215\n",
      "\n",
      "Class 2:\n",
      "True Positive (TP): 0\n",
      "False Positive (FP): 0\n",
      "False Negative (FN): 2\n",
      "True Negative (TN): 635\n",
      "Precision: 0.0000\n",
      "Recall: 0.0000\n",
      "F1-Score: 0.0000\n",
      "Accuracy: 0.9969\n",
      "\n",
      "Class 3:\n",
      "True Positive (TP): 20\n",
      "False Positive (FP): 7\n",
      "False Negative (FN): 21\n",
      "True Negative (TN): 589\n",
      "Precision: 0.7407\n",
      "Recall: 0.4878\n",
      "F1-Score: 0.5882\n",
      "Accuracy: 0.9560\n",
      "\n",
      "Class 4:\n",
      "True Positive (TP): 5\n",
      "False Positive (FP): 2\n",
      "False Negative (FN): 15\n",
      "True Negative (TN): 615\n",
      "Precision: 0.7143\n",
      "Recall: 0.2500\n",
      "F1-Score: 0.3704\n",
      "Accuracy: 0.9733\n",
      "\n",
      "Class 5:\n",
      "True Positive (TP): 19\n",
      "False Positive (FP): 16\n",
      "False Negative (FN): 16\n",
      "True Negative (TN): 586\n",
      "Precision: 0.5429\n",
      "Recall: 0.5429\n",
      "F1-Score: 0.5429\n",
      "Accuracy: 0.9498\n",
      "\n",
      "Class 6:\n",
      "True Positive (TP): 42\n",
      "False Positive (FP): 6\n",
      "False Negative (FN): 2\n",
      "True Negative (TN): 587\n",
      "Precision: 0.8750\n",
      "Recall: 0.9545\n",
      "F1-Score: 0.9130\n",
      "Accuracy: 0.9874\n",
      "\n",
      "Class 7:\n",
      "True Positive (TP): 43\n",
      "False Positive (FP): 69\n",
      "False Negative (FN): 13\n",
      "True Negative (TN): 512\n",
      "Precision: 0.3839\n",
      "Recall: 0.7679\n",
      "F1-Score: 0.5119\n",
      "Accuracy: 0.8713\n",
      "\n",
      "Class 8:\n",
      "True Positive (TP): 7\n",
      "False Positive (FP): 30\n",
      "False Negative (FN): 40\n",
      "True Negative (TN): 560\n",
      "Precision: 0.1892\n",
      "Recall: 0.1489\n",
      "F1-Score: 0.1667\n",
      "Accuracy: 0.8901\n",
      "\n",
      "Class 9:\n",
      "True Positive (TP): 20\n",
      "False Positive (FP): 19\n",
      "False Negative (FN): 25\n",
      "True Negative (TN): 573\n",
      "Precision: 0.5128\n",
      "Recall: 0.4444\n",
      "F1-Score: 0.4762\n",
      "Accuracy: 0.9309\n",
      "\n",
      "Class 10:\n",
      "True Positive (TP): 26\n",
      "False Positive (FP): 27\n",
      "False Negative (FN): 17\n",
      "True Negative (TN): 567\n",
      "Precision: 0.4906\n",
      "Recall: 0.6047\n",
      "F1-Score: 0.5417\n",
      "Accuracy: 0.9309\n",
      "\n",
      "Class 11:\n",
      "True Positive (TP): 30\n",
      "False Positive (FP): 28\n",
      "False Negative (FN): 17\n",
      "True Negative (TN): 562\n",
      "Precision: 0.5172\n",
      "Recall: 0.6383\n",
      "F1-Score: 0.5714\n",
      "Accuracy: 0.9294\n",
      "\n",
      "Class 12:\n",
      "True Positive (TP): 23\n",
      "False Positive (FP): 28\n",
      "False Negative (FN): 32\n",
      "True Negative (TN): 554\n",
      "Precision: 0.4510\n",
      "Recall: 0.4182\n",
      "F1-Score: 0.4340\n",
      "Accuracy: 0.9058\n",
      "\n",
      "Class 13:\n",
      "True Positive (TP): 7\n",
      "False Positive (FP): 9\n",
      "False Negative (FN): 23\n",
      "True Negative (TN): 598\n",
      "Precision: 0.4375\n",
      "Recall: 0.2333\n",
      "F1-Score: 0.3043\n",
      "Accuracy: 0.9498\n",
      "\n",
      "Class 14:\n",
      "True Positive (TP): 32\n",
      "False Positive (FP): 6\n",
      "False Negative (FN): 15\n",
      "True Negative (TN): 584\n",
      "Precision: 0.8421\n",
      "Recall: 0.6809\n",
      "F1-Score: 0.7529\n",
      "Accuracy: 0.9670\n",
      "\n"
     ]
    }
   ],
   "source": [
    "from sklearn.metrics import precision_score, recall_score, f1_score, accuracy_score\n",
    "\n",
    "# Calculate metrics for each class\n",
    "for i in range(cm.shape[0]):\n",
    "    tp = cm[i, i]\n",
    "    fp = cm[:, i].sum() - tp  # sum of the column - TP\n",
    "    fn = cm[i, :].sum() - tp  # sum of the row - TP\n",
    "    tn = cm.sum() - (tp + fp + fn)\n",
    "    \n",
    "    # Calculate Precision, Recall, F1-Score, and Accuracy\n",
    "    precision = tp / (tp + fp) if (tp + fp) != 0 else 0\n",
    "    recall = tp / (tp + fn) if (tp + fn) != 0 else 0\n",
    "    f1 = 2 * (precision * recall) / (precision + recall) if (precision + recall) != 0 else 0\n",
    "    accuracy = (tp + tn) / (tp + tn + fp + fn)\n",
    "    \n",
    "    print(f\"Class {i}:\")\n",
    "    print(f\"True Positive (TP): {tp}\")\n",
    "    print(f\"False Positive (FP): {fp}\")\n",
    "    print(f\"False Negative (FN): {fn}\")\n",
    "    print(f\"True Negative (TN): {tn}\")\n",
    "    print(f\"Precision: {precision:.4f}\")\n",
    "    print(f\"Recall: {recall:.4f}\")\n",
    "    print(f\"F1-Score: {f1:.4f}\")\n",
    "    print(f\"Accuracy: {accuracy:.4f}\")\n",
    "    print()\n"
   ]
  },
  {
   "cell_type": "code",
   "execution_count": 31,
   "id": "9651b6c5-9fb4-42cb-bbd1-51a95c4c791f",
   "metadata": {},
   "outputs": [
    {
     "name": "stdout",
     "output_type": "stream",
     "text": [
      "              precision    recall  f1-score   support\n",
      "\n",
      "           0       0.51      0.52      0.52        69\n",
      "           1       0.57      0.46      0.51        56\n",
      "           2       0.00      0.00      0.00         2\n",
      "           3       0.74      0.49      0.59        41\n",
      "           4       0.71      0.25      0.37        20\n",
      "           5       0.54      0.54      0.54        35\n",
      "           6       0.88      0.95      0.91        44\n",
      "           7       0.38      0.77      0.51        56\n",
      "           8       0.19      0.15      0.17        47\n",
      "           9       0.51      0.44      0.48        45\n",
      "          10       0.49      0.60      0.54        43\n",
      "          11       0.52      0.64      0.57        47\n",
      "          12       0.45      0.42      0.43        55\n",
      "          13       0.44      0.23      0.30        30\n",
      "          14       0.84      0.68      0.75        47\n",
      "\n",
      "    accuracy                           0.53       637\n",
      "   macro avg       0.52      0.48      0.48       637\n",
      "weighted avg       0.54      0.53      0.52       637\n",
      "\n"
     ]
    },
    {
     "name": "stderr",
     "output_type": "stream",
     "text": [
      "C:\\ProgramData\\anaconda3\\Lib\\site-packages\\sklearn\\metrics\\_classification.py:1509: UndefinedMetricWarning: Precision is ill-defined and being set to 0.0 in labels with no predicted samples. Use `zero_division` parameter to control this behavior.\n",
      "  _warn_prf(average, modifier, f\"{metric.capitalize()} is\", len(result))\n",
      "C:\\ProgramData\\anaconda3\\Lib\\site-packages\\sklearn\\metrics\\_classification.py:1509: UndefinedMetricWarning: Precision is ill-defined and being set to 0.0 in labels with no predicted samples. Use `zero_division` parameter to control this behavior.\n",
      "  _warn_prf(average, modifier, f\"{metric.capitalize()} is\", len(result))\n",
      "C:\\ProgramData\\anaconda3\\Lib\\site-packages\\sklearn\\metrics\\_classification.py:1509: UndefinedMetricWarning: Precision is ill-defined and being set to 0.0 in labels with no predicted samples. Use `zero_division` parameter to control this behavior.\n",
      "  _warn_prf(average, modifier, f\"{metric.capitalize()} is\", len(result))\n"
     ]
    }
   ],
   "source": [
    "from sklearn.metrics import classification_report\n",
    "print(classification_report(test_data_labels, test_predictions))"
   ]
  },
  {
   "cell_type": "code",
   "execution_count": 33,
   "id": "83f80f54-a069-44ae-a972-ac30fa5dc502",
   "metadata": {},
   "outputs": [
    {
     "name": "stderr",
     "output_type": "stream",
     "text": [
      "WARNING:absl:You are saving your model as an HDF5 file via `model.save()` or `keras.saving.save_model(model)`. This file format is considered legacy. We recommend using instead the native Keras format, e.g. `model.save('my_model.keras')` or `keras.saving.save_model(model, 'my_model.keras')`. \n"
     ]
    }
   ],
   "source": [
    "cnnModel.save(\"model.h5\")"
   ]
  },
  {
   "cell_type": "code",
   "execution_count": 35,
   "id": "50da1565-6fec-41bd-b41a-c3f30d44012f",
   "metadata": {},
   "outputs": [],
   "source": [
    "cnnModel.save(\"model.keras\")"
   ]
  }
 ],
 "metadata": {
  "kernelspec": {
   "display_name": "Python 3 (ipykernel)",
   "language": "python",
   "name": "python3"
  },
  "language_info": {
   "codemirror_mode": {
    "name": "ipython",
    "version": 3
   },
   "file_extension": ".py",
   "mimetype": "text/x-python",
   "name": "python",
   "nbconvert_exporter": "python",
   "pygments_lexer": "ipython3",
   "version": "3.12.4"
  }
 },
 "nbformat": 4,
 "nbformat_minor": 5
}
