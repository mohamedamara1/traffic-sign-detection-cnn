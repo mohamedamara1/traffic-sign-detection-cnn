{
 "cells": [
  {
   "cell_type": "code",
   "execution_count": 1,
   "id": "d6cb708f-979a-434a-b851-e61df2a43ae2",
   "metadata": {},
   "outputs": [],
   "source": [
    "import pandas as pd\n",
    "import numpy as np\n",
    "import tensorflow as tf\n",
    "from PIL import Image\n",
    "import os\n",
    "from sklearn.model_selection import train_test_split \n",
    "from keras.models import Sequential\n",
    "from keras.layers import Conv2D, MaxPool2D, Dense, Flatten, Dropout\n",
    "import matplotlib.pyplot as plt\n",
    "import plotly.express as px\n",
    "import random\n",
    "from keras.losses import SparseCategoricalCrossentropy\n"
   ]
  },
  {
   "cell_type": "code",
   "execution_count": 3,
   "id": "61f9bc4d-931b-426b-beb7-0609ca10bd59",
   "metadata": {},
   "outputs": [],
   "source": [
    "def fetch_image(data_folder):\n",
    "    train_data = []\n",
    "    test_data = []\n",
    "    valid_data = []\n",
    "    \n",
    "    splits = {\n",
    "        \"train\": os.path.join(data_folder, \"train\"),\n",
    "        \"test\": os.path.join(data_folder, \"test\"),\n",
    "        \"valid\": os.path.join(data_folder, \"valid\")\n",
    "    }\n",
    "    \n",
    "    for split_name, split_path in splits.items():\n",
    "        images_folder = os.path.join(split_path, \"images\")\n",
    "        labels_folder = os.path.join(split_path, \"labels\")\n",
    "        \n",
    "        for image_name in os.listdir(images_folder):\n",
    "            label_name = os.path.splitext(image_name)[0] + \".txt\"\n",
    "            label_path = os.path.join(labels_folder, label_name)\n",
    "            image_path = os.path.join(images_folder, image_name)\n",
    "            \n",
    "            if not os.path.exists(label_path):\n",
    "                print(f\"Warning: Label file not found for {image_name}\")\n",
    "                continue\n",
    "            \n",
    "            imgTrafficSignal = Image.open(image_path)\n",
    "            imgTrafficSignal = imgTrafficSignal.convert(\"L\")\n",
    "            imgTrafficSignal = imgTrafficSignal.resize((90, 90))\n",
    "            imgTrafficSignal = np.array(imgTrafficSignal)\n",
    "            \n",
    "            with open(label_path, \"r\") as label_file:\n",
    "                label_lines = label_file.readlines()\n",
    "                label_values = []\n",
    "                for line in label_lines:\n",
    "                    parts = line.strip().split()\n",
    "                    class_id = int(parts[0])  # First value is the class ID\n",
    "                    label_values.append(class_id)\n",
    "            \n",
    "            # Use only valid labels (remove -1 or any invalid labels)\n",
    "            valid_labels = [label for label in label_values if label >= 0]\n",
    "            \n",
    "            if not valid_labels:\n",
    "                print(f\"No valid labels for {image_name}\")\n",
    "                continue\n",
    "            \n",
    "            # Use the first valid label\n",
    "            first_label = valid_labels[0]\n",
    "            \n",
    "            if split_name == \"train\":\n",
    "                train_data.append((imgTrafficSignal, first_label))\n",
    "            elif split_name == \"test\":\n",
    "                test_data.append((imgTrafficSignal, first_label))\n",
    "            elif split_name == \"valid\":\n",
    "                valid_data.append((imgTrafficSignal, first_label))\n",
    "    \n",
    "    return train_data, test_data, valid_data"
   ]
  },
  {
   "cell_type": "code",
   "execution_count": 15,
   "id": "09ed6e85-af9c-4464-89aa-1e345cd084e3",
   "metadata": {},
   "outputs": [
    {
     "name": "stdout",
     "output_type": "stream",
     "text": [
      "No valid labels for FisheyeCamera_1_00802_png.rf.6a502d781364b74f35bfa71832fc1ede.jpg\n",
      "No valid labels for FisheyeCamera_1_00807_png.rf.065f778b2eaf15dd7b5beb90b30c490c.jpg\n",
      "No valid labels for FisheyeCamera_1_00926_png.rf.511cfac04ff48a1fe99b560b4a4fb9e2.jpg\n",
      "No valid labels for FisheyeCamera_1_00922_png.rf.408835a278b9c700eb1a2f358ca58d07.jpg\n"
     ]
    }
   ],
   "source": [
    "data_folder = \"./DataSet\"\n",
    "train_data, test_data, valid_data = fetch_image(data_folder)"
   ]
  },
  {
   "cell_type": "code",
   "execution_count": 21,
   "id": "42eba00a-faec-46c0-a1f1-1bfb486ffc82",
   "metadata": {},
   "outputs": [],
   "source": [
    "# Prepare training data features and labels\n",
    "training_data_features, training_data_labels = zip(*train_data)\n",
    "training_data_features = np.array(training_data_features)\n",
    "training_data_labels = np.array(training_data_labels)\n",
    "\n",
    "# Normalize the images\n",
    "training_data_features = training_data_features / 255.0\n",
    "\n",
    "# Reshape for CNN (add channel dimension)\n",
    "training_data_features = training_data_features.reshape(-1, 90, 90, 1)"
   ]
  },
  {
   "cell_type": "code",
   "execution_count": 23,
   "id": "2e2e8f8c-f264-42cd-b61d-00c4ea85d88c",
   "metadata": {},
   "outputs": [
    {
     "name": "stderr",
     "output_type": "stream",
     "text": [
      "2024-12-02 21:37:53.199426: W external/local_xla/xla/tsl/framework/cpu_allocator_impl.cc:83] Allocation of 1828396800 exceeds 10% of free system memory.\n",
      "2024-12-02 21:37:53.884560: W external/local_xla/xla/tsl/framework/cpu_allocator_impl.cc:83] Allocation of 1828396800 exceeds 10% of free system memory.\n",
      "2024-12-02 21:37:54.367173: W external/local_xla/xla/tsl/framework/cpu_allocator_impl.cc:83] Allocation of 1828396800 exceeds 10% of free system memory.\n"
     ]
    },
    {
     "name": "stdout",
     "output_type": "stream",
     "text": [
      "(3527, 90, 90, 16)\n"
     ]
    }
   ],
   "source": [
    "cnnModel = Sequential()\n",
    "cnnModel.add(Conv2D(16,(3,3), padding=\"same\", input_shape=(90, 90, 1), activation='relu'))\n",
    "print(cnnModel(training_data_features).shape)\n",
    "cnnModel.add(MaxPool2D((2,2), strides=None, padding=\"same\"))\n",
    "cnnModel.add(Conv2D(32,(3,3), padding=\"same\", activation='relu'))\n",
    "cnnModel.add(MaxPool2D((2,2), strides=None, padding=\"same\"))\n",
    "cnnModel.add(Conv2D(64,(5,5), padding=\"same\", activation='relu'))\n",
    "cnnModel.add(MaxPool2D((2,2), strides=None, padding=\"same\"))\n",
    "cnnModel.add(Conv2D(128,(7,7), padding=\"same\", activation='relu'))\n",
    "cnnModel.add(MaxPool2D((2,2), strides=None, padding=\"same\"))\n",
    "cnnModel.add(Flatten())\n",
    "cnnModel.add(Dense(232, activation='relu'))\n",
    "cnnModel.add(Dense(116, activation='relu'))\n",
    "cnnModel.add(Dense(58, activation='softmax'))"
   ]
  },
  {
   "cell_type": "code",
   "execution_count": 25,
   "id": "cb5d21f4-7211-4ace-8ea4-553ffda29c55",
   "metadata": {},
   "outputs": [
    {
     "data": {
      "text/html": [
       "<pre style=\"white-space:pre;overflow-x:auto;line-height:normal;font-family:Menlo,'DejaVu Sans Mono',consolas,'Courier New',monospace\"><span style=\"font-weight: bold\">Model: \"sequential_2\"</span>\n",
       "</pre>\n"
      ],
      "text/plain": [
       "\u001b[1mModel: \"sequential_2\"\u001b[0m\n"
      ]
     },
     "metadata": {},
     "output_type": "display_data"
    },
    {
     "data": {
      "text/html": [
       "<pre style=\"white-space:pre;overflow-x:auto;line-height:normal;font-family:Menlo,'DejaVu Sans Mono',consolas,'Courier New',monospace\">┏━━━━━━━━━━━━━━━━━━━━━━━━━━━━━━━━━┳━━━━━━━━━━━━━━━━━━━━━━━━┳━━━━━━━━━━━━━━━┓\n",
       "┃<span style=\"font-weight: bold\"> Layer (type)                    </span>┃<span style=\"font-weight: bold\"> Output Shape           </span>┃<span style=\"font-weight: bold\">       Param # </span>┃\n",
       "┡━━━━━━━━━━━━━━━━━━━━━━━━━━━━━━━━━╇━━━━━━━━━━━━━━━━━━━━━━━━╇━━━━━━━━━━━━━━━┩\n",
       "│ conv2d_2 (<span style=\"color: #0087ff; text-decoration-color: #0087ff\">Conv2D</span>)               │ (<span style=\"color: #00d7ff; text-decoration-color: #00d7ff\">None</span>, <span style=\"color: #00af00; text-decoration-color: #00af00\">90</span>, <span style=\"color: #00af00; text-decoration-color: #00af00\">90</span>, <span style=\"color: #00af00; text-decoration-color: #00af00\">16</span>)     │           <span style=\"color: #00af00; text-decoration-color: #00af00\">160</span> │\n",
       "├─────────────────────────────────┼────────────────────────┼───────────────┤\n",
       "│ max_pooling2d (<span style=\"color: #0087ff; text-decoration-color: #0087ff\">MaxPooling2D</span>)    │ (<span style=\"color: #00d7ff; text-decoration-color: #00d7ff\">None</span>, <span style=\"color: #00af00; text-decoration-color: #00af00\">45</span>, <span style=\"color: #00af00; text-decoration-color: #00af00\">45</span>, <span style=\"color: #00af00; text-decoration-color: #00af00\">16</span>)     │             <span style=\"color: #00af00; text-decoration-color: #00af00\">0</span> │\n",
       "├─────────────────────────────────┼────────────────────────┼───────────────┤\n",
       "│ conv2d_3 (<span style=\"color: #0087ff; text-decoration-color: #0087ff\">Conv2D</span>)               │ (<span style=\"color: #00d7ff; text-decoration-color: #00d7ff\">None</span>, <span style=\"color: #00af00; text-decoration-color: #00af00\">45</span>, <span style=\"color: #00af00; text-decoration-color: #00af00\">45</span>, <span style=\"color: #00af00; text-decoration-color: #00af00\">32</span>)     │         <span style=\"color: #00af00; text-decoration-color: #00af00\">4,640</span> │\n",
       "├─────────────────────────────────┼────────────────────────┼───────────────┤\n",
       "│ max_pooling2d_1 (<span style=\"color: #0087ff; text-decoration-color: #0087ff\">MaxPooling2D</span>)  │ (<span style=\"color: #00d7ff; text-decoration-color: #00d7ff\">None</span>, <span style=\"color: #00af00; text-decoration-color: #00af00\">23</span>, <span style=\"color: #00af00; text-decoration-color: #00af00\">23</span>, <span style=\"color: #00af00; text-decoration-color: #00af00\">32</span>)     │             <span style=\"color: #00af00; text-decoration-color: #00af00\">0</span> │\n",
       "├─────────────────────────────────┼────────────────────────┼───────────────┤\n",
       "│ conv2d_4 (<span style=\"color: #0087ff; text-decoration-color: #0087ff\">Conv2D</span>)               │ (<span style=\"color: #00d7ff; text-decoration-color: #00d7ff\">None</span>, <span style=\"color: #00af00; text-decoration-color: #00af00\">23</span>, <span style=\"color: #00af00; text-decoration-color: #00af00\">23</span>, <span style=\"color: #00af00; text-decoration-color: #00af00\">64</span>)     │        <span style=\"color: #00af00; text-decoration-color: #00af00\">51,264</span> │\n",
       "├─────────────────────────────────┼────────────────────────┼───────────────┤\n",
       "│ max_pooling2d_2 (<span style=\"color: #0087ff; text-decoration-color: #0087ff\">MaxPooling2D</span>)  │ (<span style=\"color: #00d7ff; text-decoration-color: #00d7ff\">None</span>, <span style=\"color: #00af00; text-decoration-color: #00af00\">12</span>, <span style=\"color: #00af00; text-decoration-color: #00af00\">12</span>, <span style=\"color: #00af00; text-decoration-color: #00af00\">64</span>)     │             <span style=\"color: #00af00; text-decoration-color: #00af00\">0</span> │\n",
       "├─────────────────────────────────┼────────────────────────┼───────────────┤\n",
       "│ conv2d_5 (<span style=\"color: #0087ff; text-decoration-color: #0087ff\">Conv2D</span>)               │ (<span style=\"color: #00d7ff; text-decoration-color: #00d7ff\">None</span>, <span style=\"color: #00af00; text-decoration-color: #00af00\">12</span>, <span style=\"color: #00af00; text-decoration-color: #00af00\">12</span>, <span style=\"color: #00af00; text-decoration-color: #00af00\">128</span>)    │       <span style=\"color: #00af00; text-decoration-color: #00af00\">401,536</span> │\n",
       "├─────────────────────────────────┼────────────────────────┼───────────────┤\n",
       "│ max_pooling2d_3 (<span style=\"color: #0087ff; text-decoration-color: #0087ff\">MaxPooling2D</span>)  │ (<span style=\"color: #00d7ff; text-decoration-color: #00d7ff\">None</span>, <span style=\"color: #00af00; text-decoration-color: #00af00\">6</span>, <span style=\"color: #00af00; text-decoration-color: #00af00\">6</span>, <span style=\"color: #00af00; text-decoration-color: #00af00\">128</span>)      │             <span style=\"color: #00af00; text-decoration-color: #00af00\">0</span> │\n",
       "├─────────────────────────────────┼────────────────────────┼───────────────┤\n",
       "│ flatten (<span style=\"color: #0087ff; text-decoration-color: #0087ff\">Flatten</span>)               │ (<span style=\"color: #00d7ff; text-decoration-color: #00d7ff\">None</span>, <span style=\"color: #00af00; text-decoration-color: #00af00\">4608</span>)           │             <span style=\"color: #00af00; text-decoration-color: #00af00\">0</span> │\n",
       "├─────────────────────────────────┼────────────────────────┼───────────────┤\n",
       "│ dense (<span style=\"color: #0087ff; text-decoration-color: #0087ff\">Dense</span>)                   │ (<span style=\"color: #00d7ff; text-decoration-color: #00d7ff\">None</span>, <span style=\"color: #00af00; text-decoration-color: #00af00\">232</span>)            │     <span style=\"color: #00af00; text-decoration-color: #00af00\">1,069,288</span> │\n",
       "├─────────────────────────────────┼────────────────────────┼───────────────┤\n",
       "│ dense_1 (<span style=\"color: #0087ff; text-decoration-color: #0087ff\">Dense</span>)                 │ (<span style=\"color: #00d7ff; text-decoration-color: #00d7ff\">None</span>, <span style=\"color: #00af00; text-decoration-color: #00af00\">116</span>)            │        <span style=\"color: #00af00; text-decoration-color: #00af00\">27,028</span> │\n",
       "├─────────────────────────────────┼────────────────────────┼───────────────┤\n",
       "│ dense_2 (<span style=\"color: #0087ff; text-decoration-color: #0087ff\">Dense</span>)                 │ (<span style=\"color: #00d7ff; text-decoration-color: #00d7ff\">None</span>, <span style=\"color: #00af00; text-decoration-color: #00af00\">58</span>)             │         <span style=\"color: #00af00; text-decoration-color: #00af00\">6,786</span> │\n",
       "└─────────────────────────────────┴────────────────────────┴───────────────┘\n",
       "</pre>\n"
      ],
      "text/plain": [
       "┏━━━━━━━━━━━━━━━━━━━━━━━━━━━━━━━━━┳━━━━━━━━━━━━━━━━━━━━━━━━┳━━━━━━━━━━━━━━━┓\n",
       "┃\u001b[1m \u001b[0m\u001b[1mLayer (type)                   \u001b[0m\u001b[1m \u001b[0m┃\u001b[1m \u001b[0m\u001b[1mOutput Shape          \u001b[0m\u001b[1m \u001b[0m┃\u001b[1m \u001b[0m\u001b[1m      Param #\u001b[0m\u001b[1m \u001b[0m┃\n",
       "┡━━━━━━━━━━━━━━━━━━━━━━━━━━━━━━━━━╇━━━━━━━━━━━━━━━━━━━━━━━━╇━━━━━━━━━━━━━━━┩\n",
       "│ conv2d_2 (\u001b[38;5;33mConv2D\u001b[0m)               │ (\u001b[38;5;45mNone\u001b[0m, \u001b[38;5;34m90\u001b[0m, \u001b[38;5;34m90\u001b[0m, \u001b[38;5;34m16\u001b[0m)     │           \u001b[38;5;34m160\u001b[0m │\n",
       "├─────────────────────────────────┼────────────────────────┼───────────────┤\n",
       "│ max_pooling2d (\u001b[38;5;33mMaxPooling2D\u001b[0m)    │ (\u001b[38;5;45mNone\u001b[0m, \u001b[38;5;34m45\u001b[0m, \u001b[38;5;34m45\u001b[0m, \u001b[38;5;34m16\u001b[0m)     │             \u001b[38;5;34m0\u001b[0m │\n",
       "├─────────────────────────────────┼────────────────────────┼───────────────┤\n",
       "│ conv2d_3 (\u001b[38;5;33mConv2D\u001b[0m)               │ (\u001b[38;5;45mNone\u001b[0m, \u001b[38;5;34m45\u001b[0m, \u001b[38;5;34m45\u001b[0m, \u001b[38;5;34m32\u001b[0m)     │         \u001b[38;5;34m4,640\u001b[0m │\n",
       "├─────────────────────────────────┼────────────────────────┼───────────────┤\n",
       "│ max_pooling2d_1 (\u001b[38;5;33mMaxPooling2D\u001b[0m)  │ (\u001b[38;5;45mNone\u001b[0m, \u001b[38;5;34m23\u001b[0m, \u001b[38;5;34m23\u001b[0m, \u001b[38;5;34m32\u001b[0m)     │             \u001b[38;5;34m0\u001b[0m │\n",
       "├─────────────────────────────────┼────────────────────────┼───────────────┤\n",
       "│ conv2d_4 (\u001b[38;5;33mConv2D\u001b[0m)               │ (\u001b[38;5;45mNone\u001b[0m, \u001b[38;5;34m23\u001b[0m, \u001b[38;5;34m23\u001b[0m, \u001b[38;5;34m64\u001b[0m)     │        \u001b[38;5;34m51,264\u001b[0m │\n",
       "├─────────────────────────────────┼────────────────────────┼───────────────┤\n",
       "│ max_pooling2d_2 (\u001b[38;5;33mMaxPooling2D\u001b[0m)  │ (\u001b[38;5;45mNone\u001b[0m, \u001b[38;5;34m12\u001b[0m, \u001b[38;5;34m12\u001b[0m, \u001b[38;5;34m64\u001b[0m)     │             \u001b[38;5;34m0\u001b[0m │\n",
       "├─────────────────────────────────┼────────────────────────┼───────────────┤\n",
       "│ conv2d_5 (\u001b[38;5;33mConv2D\u001b[0m)               │ (\u001b[38;5;45mNone\u001b[0m, \u001b[38;5;34m12\u001b[0m, \u001b[38;5;34m12\u001b[0m, \u001b[38;5;34m128\u001b[0m)    │       \u001b[38;5;34m401,536\u001b[0m │\n",
       "├─────────────────────────────────┼────────────────────────┼───────────────┤\n",
       "│ max_pooling2d_3 (\u001b[38;5;33mMaxPooling2D\u001b[0m)  │ (\u001b[38;5;45mNone\u001b[0m, \u001b[38;5;34m6\u001b[0m, \u001b[38;5;34m6\u001b[0m, \u001b[38;5;34m128\u001b[0m)      │             \u001b[38;5;34m0\u001b[0m │\n",
       "├─────────────────────────────────┼────────────────────────┼───────────────┤\n",
       "│ flatten (\u001b[38;5;33mFlatten\u001b[0m)               │ (\u001b[38;5;45mNone\u001b[0m, \u001b[38;5;34m4608\u001b[0m)           │             \u001b[38;5;34m0\u001b[0m │\n",
       "├─────────────────────────────────┼────────────────────────┼───────────────┤\n",
       "│ dense (\u001b[38;5;33mDense\u001b[0m)                   │ (\u001b[38;5;45mNone\u001b[0m, \u001b[38;5;34m232\u001b[0m)            │     \u001b[38;5;34m1,069,288\u001b[0m │\n",
       "├─────────────────────────────────┼────────────────────────┼───────────────┤\n",
       "│ dense_1 (\u001b[38;5;33mDense\u001b[0m)                 │ (\u001b[38;5;45mNone\u001b[0m, \u001b[38;5;34m116\u001b[0m)            │        \u001b[38;5;34m27,028\u001b[0m │\n",
       "├─────────────────────────────────┼────────────────────────┼───────────────┤\n",
       "│ dense_2 (\u001b[38;5;33mDense\u001b[0m)                 │ (\u001b[38;5;45mNone\u001b[0m, \u001b[38;5;34m58\u001b[0m)             │         \u001b[38;5;34m6,786\u001b[0m │\n",
       "└─────────────────────────────────┴────────────────────────┴───────────────┘\n"
      ]
     },
     "metadata": {},
     "output_type": "display_data"
    },
    {
     "data": {
      "text/html": [
       "<pre style=\"white-space:pre;overflow-x:auto;line-height:normal;font-family:Menlo,'DejaVu Sans Mono',consolas,'Courier New',monospace\"><span style=\"font-weight: bold\"> Total params: </span><span style=\"color: #00af00; text-decoration-color: #00af00\">1,560,702</span> (5.95 MB)\n",
       "</pre>\n"
      ],
      "text/plain": [
       "\u001b[1m Total params: \u001b[0m\u001b[38;5;34m1,560,702\u001b[0m (5.95 MB)\n"
      ]
     },
     "metadata": {},
     "output_type": "display_data"
    },
    {
     "data": {
      "text/html": [
       "<pre style=\"white-space:pre;overflow-x:auto;line-height:normal;font-family:Menlo,'DejaVu Sans Mono',consolas,'Courier New',monospace\"><span style=\"font-weight: bold\"> Trainable params: </span><span style=\"color: #00af00; text-decoration-color: #00af00\">1,560,702</span> (5.95 MB)\n",
       "</pre>\n"
      ],
      "text/plain": [
       "\u001b[1m Trainable params: \u001b[0m\u001b[38;5;34m1,560,702\u001b[0m (5.95 MB)\n"
      ]
     },
     "metadata": {},
     "output_type": "display_data"
    },
    {
     "data": {
      "text/html": [
       "<pre style=\"white-space:pre;overflow-x:auto;line-height:normal;font-family:Menlo,'DejaVu Sans Mono',consolas,'Courier New',monospace\"><span style=\"font-weight: bold\"> Non-trainable params: </span><span style=\"color: #00af00; text-decoration-color: #00af00\">0</span> (0.00 B)\n",
       "</pre>\n"
      ],
      "text/plain": [
       "\u001b[1m Non-trainable params: \u001b[0m\u001b[38;5;34m0\u001b[0m (0.00 B)\n"
      ]
     },
     "metadata": {},
     "output_type": "display_data"
    }
   ],
   "source": [
    "cnnModel.summary()"
   ]
  },
  {
   "cell_type": "code",
   "execution_count": 27,
   "id": "24d76cf6-7ae4-48ac-81eb-6ae6bd52ed89",
   "metadata": {},
   "outputs": [],
   "source": [
    "cnnModel.compile(optimizer='adam', loss=tf.keras.losses.SparseCategoricalCrossentropy(from_logits=True), metrics=['accuracy'])\n"
   ]
  },
  {
   "cell_type": "code",
   "execution_count": 31,
   "id": "12bf6e41-bf27-4c82-ab7d-c6452e8ea92d",
   "metadata": {},
   "outputs": [
    {
     "name": "stdout",
     "output_type": "stream",
     "text": [
      "Epoch 1/12\n"
     ]
    },
    {
     "name": "stderr",
     "output_type": "stream",
     "text": [
      "/home/user/anaconda3/lib/python3.12/site-packages/keras/src/backend/tensorflow/nn.py:678: UserWarning: \"`sparse_categorical_crossentropy` received `from_logits=True`, but the `output` argument was produced by a Softmax activation and thus does not represent logits. Was this intended?\n",
      "  output, from_logits = _get_logits(\n"
     ]
    },
    {
     "name": "stdout",
     "output_type": "stream",
     "text": [
      "\u001b[1m111/111\u001b[0m \u001b[32m━━━━━━━━━━━━━━━━━━━━\u001b[0m\u001b[37m\u001b[0m \u001b[1m19s\u001b[0m 152ms/step - accuracy: 0.0878 - loss: 3.0427 - val_accuracy: 0.1248 - val_loss: 2.5093\n",
      "Epoch 2/12\n",
      "\u001b[1m111/111\u001b[0m \u001b[32m━━━━━━━━━━━━━━━━━━━━\u001b[0m\u001b[37m\u001b[0m \u001b[1m17s\u001b[0m 152ms/step - accuracy: 0.1638 - loss: 2.5113 - val_accuracy: 0.2497 - val_loss: 2.2929\n",
      "Epoch 3/12\n",
      "\u001b[1m111/111\u001b[0m \u001b[32m━━━━━━━━━━━━━━━━━━━━\u001b[0m\u001b[37m\u001b[0m \u001b[1m17s\u001b[0m 149ms/step - accuracy: 0.2916 - loss: 2.1907 - val_accuracy: 0.3258 - val_loss: 1.9698\n",
      "Epoch 4/12\n",
      "\u001b[1m111/111\u001b[0m \u001b[32m━━━━━━━━━━━━━━━━━━━━\u001b[0m\u001b[37m\u001b[0m \u001b[1m17s\u001b[0m 155ms/step - accuracy: 0.3671 - loss: 1.9085 - val_accuracy: 0.3770 - val_loss: 1.8285\n",
      "Epoch 5/12\n",
      "\u001b[1m111/111\u001b[0m \u001b[32m━━━━━━━━━━━━━━━━━━━━\u001b[0m\u001b[37m\u001b[0m \u001b[1m17s\u001b[0m 154ms/step - accuracy: 0.4181 - loss: 1.7224 - val_accuracy: 0.4182 - val_loss: 1.7414\n",
      "Epoch 6/12\n",
      "\u001b[1m111/111\u001b[0m \u001b[32m━━━━━━━━━━━━━━━━━━━━\u001b[0m\u001b[37m\u001b[0m \u001b[1m17s\u001b[0m 151ms/step - accuracy: 0.4985 - loss: 1.4482 - val_accuracy: 0.4619 - val_loss: 1.5784\n",
      "Epoch 7/12\n",
      "\u001b[1m111/111\u001b[0m \u001b[32m━━━━━━━━━━━━━━━━━━━━\u001b[0m\u001b[37m\u001b[0m \u001b[1m17s\u001b[0m 152ms/step - accuracy: 0.5933 - loss: 1.2098 - val_accuracy: 0.5293 - val_loss: 1.5068\n",
      "Epoch 8/12\n",
      "\u001b[1m111/111\u001b[0m \u001b[32m━━━━━━━━━━━━━━━━━━━━\u001b[0m\u001b[37m\u001b[0m \u001b[1m16s\u001b[0m 146ms/step - accuracy: 0.6923 - loss: 0.9060 - val_accuracy: 0.5506 - val_loss: 1.5466\n",
      "Epoch 9/12\n",
      "\u001b[1m111/111\u001b[0m \u001b[32m━━━━━━━━━━━━━━━━━━━━\u001b[0m\u001b[37m\u001b[0m \u001b[1m16s\u001b[0m 146ms/step - accuracy: 0.7664 - loss: 0.6750 - val_accuracy: 0.5930 - val_loss: 1.6251\n",
      "Epoch 10/12\n",
      "\u001b[1m111/111\u001b[0m \u001b[32m━━━━━━━━━━━━━━━━━━━━\u001b[0m\u001b[37m\u001b[0m \u001b[1m16s\u001b[0m 144ms/step - accuracy: 0.8455 - loss: 0.4716 - val_accuracy: 0.6080 - val_loss: 1.7805\n",
      "Epoch 11/12\n",
      "\u001b[1m111/111\u001b[0m \u001b[32m━━━━━━━━━━━━━━━━━━━━\u001b[0m\u001b[37m\u001b[0m \u001b[1m17s\u001b[0m 148ms/step - accuracy: 0.8891 - loss: 0.3234 - val_accuracy: 0.6117 - val_loss: 1.9008\n",
      "Epoch 12/12\n",
      "\u001b[1m111/111\u001b[0m \u001b[32m━━━━━━━━━━━━━━━━━━━━\u001b[0m\u001b[37m\u001b[0m \u001b[1m18s\u001b[0m 158ms/step - accuracy: 0.9067 - loss: 0.2785 - val_accuracy: 0.5743 - val_loss: 2.1778\n"
     ]
    }
   ],
   "source": [
    "# Prepare validation data\n",
    "validation_data_features, validation_data_labels = zip(*valid_data)\n",
    "validation_data_features = np.array(validation_data_features)\n",
    "validation_data_labels = np.array(validation_data_labels)\n",
    "\n",
    "# Normalize validation images\n",
    "validation_data_features = validation_data_features / 255.0\n",
    "validation_data_features = validation_data_features.reshape(-1, 90, 90, 1)\n",
    "\n",
    "# Train the model\n",
    "history = cnnModel.fit(\n",
    "    training_data_features, \n",
    "    training_data_labels, \n",
    "    validation_data=(validation_data_features, validation_data_labels),\n",
    "    epochs=12, \n",
    "    batch_size=32\n",
    ")"
   ]
  },
  {
   "cell_type": "code",
   "execution_count": 29,
   "id": "6477bb77-d299-4dc9-8fc1-008ddd29fa9d",
   "metadata": {},
   "outputs": [
    {
     "ename": "NameError",
     "evalue": "name 'validation_data_features' is not defined",
     "output_type": "error",
     "traceback": [
      "\u001b[0;31m---------------------------------------------------------------------------\u001b[0m",
      "\u001b[0;31mNameError\u001b[0m                                 Traceback (most recent call last)",
      "Cell \u001b[0;32mIn[29], line 1\u001b[0m\n\u001b[0;32m----> 1\u001b[0m trafficSignNetwork \u001b[38;5;241m=\u001b[39m cnnModel\u001b[38;5;241m.\u001b[39mfit(training_data_features, training_data_labels, batch_size\u001b[38;5;241m=\u001b[39m\u001b[38;5;241m14\u001b[39m, epochs\u001b[38;5;241m=\u001b[39m\u001b[38;5;241m10\u001b[39m, validation_data\u001b[38;5;241m=\u001b[39m(validation_data_features, validation_data_labels))\n",
      "\u001b[0;31mNameError\u001b[0m: name 'validation_data_features' is not defined"
     ]
    }
   ],
   "source": []
  }
 ],
 "metadata": {
  "kernelspec": {
   "display_name": "Python 3 (ipykernel)",
   "language": "python",
   "name": "python3"
  },
  "language_info": {
   "codemirror_mode": {
    "name": "ipython",
    "version": 3
   },
   "file_extension": ".py",
   "mimetype": "text/x-python",
   "name": "python",
   "nbconvert_exporter": "python",
   "pygments_lexer": "ipython3",
   "version": "3.12.7"
  }
 },
 "nbformat": 4,
 "nbformat_minor": 5
}
