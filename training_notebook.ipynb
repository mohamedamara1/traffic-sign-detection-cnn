{
 "cells": [
  {
   "cell_type": "code",
   "execution_count": 2,
   "id": "d6cb708f-979a-434a-b851-e61df2a43ae2",
   "metadata": {},
   "outputs": [],
   "source": [
    "import pandas as pd\n",
    "import numpy as np\n",
    "import tensorflow as tf\n",
    "from PIL import Image\n",
    "import os\n",
    "from sklearn.model_selection import train_test_split \n",
    "from keras.models import Sequential\n",
    "from keras.layers import Conv2D, MaxPool2D, Dense, Flatten, Dropout\n",
    "import matplotlib.pyplot as plt\n",
    "import plotly.express as px\n",
    "import random\n",
    "from keras.losses import SparseCategoricalCrossentropy\n"
   ]
  },
  {
   "cell_type": "code",
   "execution_count": 3,
   "id": "61f9bc4d-931b-426b-beb7-0609ca10bd59",
   "metadata": {},
   "outputs": [],
   "source": [
    "def fetch_image(data_folder):\n",
    "    train_data = []\n",
    "    test_data = []\n",
    "    valid_data = []\n",
    "    \n",
    "    splits = {\n",
    "        \"train\": os.path.join(data_folder, \"train\"),\n",
    "        \"test\": os.path.join(data_folder, \"test\"),\n",
    "        \"valid\": os.path.join(data_folder, \"valid\")\n",
    "    }\n",
    "    \n",
    "    for split_name, split_path in splits.items():\n",
    "        images_folder = os.path.join(split_path, \"images\")\n",
    "        labels_folder = os.path.join(split_path, \"labels\")\n",
    "        \n",
    "        for image_name in os.listdir(images_folder):\n",
    "            label_name = os.path.splitext(image_name)[0] + \".txt\"\n",
    "            label_path = os.path.join(labels_folder, label_name)\n",
    "            image_path = os.path.join(images_folder, image_name)\n",
    "            \n",
    "            if not os.path.exists(label_path):\n",
    "                print(f\"Warning: Label file not found for {image_name}\")\n",
    "                continue\n",
    "            \n",
    "            imgTrafficSignal = Image.open(image_path)\n",
    "            imgTrafficSignal = imgTrafficSignal.convert(\"L\")\n",
    "            imgTrafficSignal = imgTrafficSignal.resize((90, 90))\n",
    "            imgTrafficSignal = np.array(imgTrafficSignal)\n",
    "            \n",
    "            with open(label_path, \"r\") as label_file:\n",
    "                label_lines = label_file.readlines()\n",
    "                label_values = []\n",
    "                for line in label_lines:\n",
    "                    parts = line.strip().split()\n",
    "                    class_id = int(parts[0])  # First value is the class ID\n",
    "                    label_values.append(class_id)\n",
    "            \n",
    "            # Use only valid labels (remove -1 or any invalid labels)\n",
    "            valid_labels = [label for label in label_values if label >= 0]\n",
    "            \n",
    "            if not valid_labels:\n",
    "                print(f\"No valid labels for {image_name}\")\n",
    "                continue\n",
    "            \n",
    "            # Use the first valid label\n",
    "            first_label = valid_labels[0]\n",
    "            \n",
    "            if split_name == \"train\":\n",
    "                train_data.append((imgTrafficSignal, first_label))\n",
    "            elif split_name == \"test\":\n",
    "                test_data.append((imgTrafficSignal, first_label))\n",
    "            elif split_name == \"valid\":\n",
    "                valid_data.append((imgTrafficSignal, first_label))\n",
    "    \n",
    "    return train_data, test_data, valid_data"
   ]
  },
  {
   "cell_type": "code",
   "execution_count": 4,
   "id": "09ed6e85-af9c-4464-89aa-1e345cd084e3",
   "metadata": {},
   "outputs": [
    {
     "name": "stdout",
     "output_type": "stream",
     "text": [
      "No valid labels for FisheyeCamera_1_00802_png.rf.6a502d781364b74f35bfa71832fc1ede.jpg\n",
      "No valid labels for FisheyeCamera_1_00807_png.rf.065f778b2eaf15dd7b5beb90b30c490c.jpg\n",
      "No valid labels for FisheyeCamera_1_00926_png.rf.511cfac04ff48a1fe99b560b4a4fb9e2.jpg\n",
      "No valid labels for FisheyeCamera_1_00922_png.rf.408835a278b9c700eb1a2f358ca58d07.jpg\n"
     ]
    }
   ],
   "source": [
    "data_folder = \"./DataSet\"\n",
    "train_data, test_data, valid_data = fetch_image(data_folder)"
   ]
  },
  {
   "cell_type": "code",
   "execution_count": 5,
   "id": "42eba00a-faec-46c0-a1f1-1bfb486ffc82",
   "metadata": {},
   "outputs": [],
   "source": [
    "# Prepare training data features and labels\n",
    "training_data_features, training_data_labels = zip(*train_data)\n",
    "training_data_features = np.array(training_data_features)\n",
    "training_data_labels = np.array(training_data_labels)\n",
    "\n",
    "# Normalize the images\n",
    "training_data_features = training_data_features / 255.0\n",
    "\n",
    "# Reshape for CNN (add channel dimension)\n",
    "training_data_features = training_data_features.reshape(-1, 90, 90, 1)"
   ]
  },
  {
   "cell_type": "code",
   "execution_count": 6,
   "id": "2e2e8f8c-f264-42cd-b61d-00c4ea85d88c",
   "metadata": {},
   "outputs": [
    {
     "name": "stderr",
     "output_type": "stream",
     "text": [
      "C:\\Users\\manou\\AppData\\Roaming\\Python\\Python312\\site-packages\\keras\\src\\layers\\convolutional\\base_conv.py:107: UserWarning: Do not pass an `input_shape`/`input_dim` argument to a layer. When using Sequential models, prefer using an `Input(shape)` object as the first layer in the model instead.\n",
      "  super().__init__(activity_regularizer=activity_regularizer, **kwargs)\n"
     ]
    },
    {
     "name": "stdout",
     "output_type": "stream",
     "text": [
      "(3527, 90, 90, 16)\n"
     ]
    }
   ],
   "source": [
    "cnnModel = Sequential()\n",
    "cnnModel.add(Conv2D(16,(3,3), padding=\"same\", input_shape=(90, 90, 1), activation='relu'))\n",
    "print(cnnModel(training_data_features).shape)\n",
    "cnnModel.add(MaxPool2D((2,2), strides=None, padding=\"same\"))\n",
    "cnnModel.add(Conv2D(32,(3,3), padding=\"same\", activation='relu'))\n",
    "cnnModel.add(MaxPool2D((2,2), strides=None, padding=\"same\"))\n",
    "cnnModel.add(Conv2D(64,(5,5), padding=\"same\", activation='relu'))\n",
    "cnnModel.add(MaxPool2D((2,2), strides=None, padding=\"same\"))\n",
    "cnnModel.add(Conv2D(128,(7,7), padding=\"same\", activation='relu'))\n",
    "cnnModel.add(MaxPool2D((2,2), strides=None, padding=\"same\"))\n",
    "cnnModel.add(Flatten())\n",
    "cnnModel.add(Dense(232, activation='relu'))\n",
    "cnnModel.add(Dense(116, activation='relu'))\n",
    "cnnModel.add(Dense(58, activation='softmax'))"
   ]
  },
  {
   "cell_type": "code",
   "execution_count": 7,
   "id": "cb5d21f4-7211-4ace-8ea4-553ffda29c55",
   "metadata": {},
   "outputs": [
    {
     "data": {
      "text/html": [
       "<pre style=\"white-space:pre;overflow-x:auto;line-height:normal;font-family:Menlo,'DejaVu Sans Mono',consolas,'Courier New',monospace\"><span style=\"font-weight: bold\">Model: \"sequential\"</span>\n",
       "</pre>\n"
      ],
      "text/plain": [
       "\u001b[1mModel: \"sequential\"\u001b[0m\n"
      ]
     },
     "metadata": {},
     "output_type": "display_data"
    },
    {
     "data": {
      "text/html": [
       "<pre style=\"white-space:pre;overflow-x:auto;line-height:normal;font-family:Menlo,'DejaVu Sans Mono',consolas,'Courier New',monospace\">┏━━━━━━━━━━━━━━━━━━━━━━━━━━━━━━━━━━━━━━┳━━━━━━━━━━━━━━━━━━━━━━━━━━━━━┳━━━━━━━━━━━━━━━━━┓\n",
       "┃<span style=\"font-weight: bold\"> Layer (type)                         </span>┃<span style=\"font-weight: bold\"> Output Shape                </span>┃<span style=\"font-weight: bold\">         Param # </span>┃\n",
       "┡━━━━━━━━━━━━━━━━━━━━━━━━━━━━━━━━━━━━━━╇━━━━━━━━━━━━━━━━━━━━━━━━━━━━━╇━━━━━━━━━━━━━━━━━┩\n",
       "│ conv2d (<span style=\"color: #0087ff; text-decoration-color: #0087ff\">Conv2D</span>)                      │ (<span style=\"color: #00d7ff; text-decoration-color: #00d7ff\">None</span>, <span style=\"color: #00af00; text-decoration-color: #00af00\">90</span>, <span style=\"color: #00af00; text-decoration-color: #00af00\">90</span>, <span style=\"color: #00af00; text-decoration-color: #00af00\">16</span>)          │             <span style=\"color: #00af00; text-decoration-color: #00af00\">160</span> │\n",
       "├──────────────────────────────────────┼─────────────────────────────┼─────────────────┤\n",
       "│ max_pooling2d (<span style=\"color: #0087ff; text-decoration-color: #0087ff\">MaxPooling2D</span>)         │ (<span style=\"color: #00d7ff; text-decoration-color: #00d7ff\">None</span>, <span style=\"color: #00af00; text-decoration-color: #00af00\">45</span>, <span style=\"color: #00af00; text-decoration-color: #00af00\">45</span>, <span style=\"color: #00af00; text-decoration-color: #00af00\">16</span>)          │               <span style=\"color: #00af00; text-decoration-color: #00af00\">0</span> │\n",
       "├──────────────────────────────────────┼─────────────────────────────┼─────────────────┤\n",
       "│ conv2d_1 (<span style=\"color: #0087ff; text-decoration-color: #0087ff\">Conv2D</span>)                    │ (<span style=\"color: #00d7ff; text-decoration-color: #00d7ff\">None</span>, <span style=\"color: #00af00; text-decoration-color: #00af00\">45</span>, <span style=\"color: #00af00; text-decoration-color: #00af00\">45</span>, <span style=\"color: #00af00; text-decoration-color: #00af00\">32</span>)          │           <span style=\"color: #00af00; text-decoration-color: #00af00\">4,640</span> │\n",
       "├──────────────────────────────────────┼─────────────────────────────┼─────────────────┤\n",
       "│ max_pooling2d_1 (<span style=\"color: #0087ff; text-decoration-color: #0087ff\">MaxPooling2D</span>)       │ (<span style=\"color: #00d7ff; text-decoration-color: #00d7ff\">None</span>, <span style=\"color: #00af00; text-decoration-color: #00af00\">23</span>, <span style=\"color: #00af00; text-decoration-color: #00af00\">23</span>, <span style=\"color: #00af00; text-decoration-color: #00af00\">32</span>)          │               <span style=\"color: #00af00; text-decoration-color: #00af00\">0</span> │\n",
       "├──────────────────────────────────────┼─────────────────────────────┼─────────────────┤\n",
       "│ conv2d_2 (<span style=\"color: #0087ff; text-decoration-color: #0087ff\">Conv2D</span>)                    │ (<span style=\"color: #00d7ff; text-decoration-color: #00d7ff\">None</span>, <span style=\"color: #00af00; text-decoration-color: #00af00\">23</span>, <span style=\"color: #00af00; text-decoration-color: #00af00\">23</span>, <span style=\"color: #00af00; text-decoration-color: #00af00\">64</span>)          │          <span style=\"color: #00af00; text-decoration-color: #00af00\">51,264</span> │\n",
       "├──────────────────────────────────────┼─────────────────────────────┼─────────────────┤\n",
       "│ max_pooling2d_2 (<span style=\"color: #0087ff; text-decoration-color: #0087ff\">MaxPooling2D</span>)       │ (<span style=\"color: #00d7ff; text-decoration-color: #00d7ff\">None</span>, <span style=\"color: #00af00; text-decoration-color: #00af00\">12</span>, <span style=\"color: #00af00; text-decoration-color: #00af00\">12</span>, <span style=\"color: #00af00; text-decoration-color: #00af00\">64</span>)          │               <span style=\"color: #00af00; text-decoration-color: #00af00\">0</span> │\n",
       "├──────────────────────────────────────┼─────────────────────────────┼─────────────────┤\n",
       "│ conv2d_3 (<span style=\"color: #0087ff; text-decoration-color: #0087ff\">Conv2D</span>)                    │ (<span style=\"color: #00d7ff; text-decoration-color: #00d7ff\">None</span>, <span style=\"color: #00af00; text-decoration-color: #00af00\">12</span>, <span style=\"color: #00af00; text-decoration-color: #00af00\">12</span>, <span style=\"color: #00af00; text-decoration-color: #00af00\">128</span>)         │         <span style=\"color: #00af00; text-decoration-color: #00af00\">401,536</span> │\n",
       "├──────────────────────────────────────┼─────────────────────────────┼─────────────────┤\n",
       "│ max_pooling2d_3 (<span style=\"color: #0087ff; text-decoration-color: #0087ff\">MaxPooling2D</span>)       │ (<span style=\"color: #00d7ff; text-decoration-color: #00d7ff\">None</span>, <span style=\"color: #00af00; text-decoration-color: #00af00\">6</span>, <span style=\"color: #00af00; text-decoration-color: #00af00\">6</span>, <span style=\"color: #00af00; text-decoration-color: #00af00\">128</span>)           │               <span style=\"color: #00af00; text-decoration-color: #00af00\">0</span> │\n",
       "├──────────────────────────────────────┼─────────────────────────────┼─────────────────┤\n",
       "│ flatten (<span style=\"color: #0087ff; text-decoration-color: #0087ff\">Flatten</span>)                    │ (<span style=\"color: #00d7ff; text-decoration-color: #00d7ff\">None</span>, <span style=\"color: #00af00; text-decoration-color: #00af00\">4608</span>)                │               <span style=\"color: #00af00; text-decoration-color: #00af00\">0</span> │\n",
       "├──────────────────────────────────────┼─────────────────────────────┼─────────────────┤\n",
       "│ dense (<span style=\"color: #0087ff; text-decoration-color: #0087ff\">Dense</span>)                        │ (<span style=\"color: #00d7ff; text-decoration-color: #00d7ff\">None</span>, <span style=\"color: #00af00; text-decoration-color: #00af00\">232</span>)                 │       <span style=\"color: #00af00; text-decoration-color: #00af00\">1,069,288</span> │\n",
       "├──────────────────────────────────────┼─────────────────────────────┼─────────────────┤\n",
       "│ dense_1 (<span style=\"color: #0087ff; text-decoration-color: #0087ff\">Dense</span>)                      │ (<span style=\"color: #00d7ff; text-decoration-color: #00d7ff\">None</span>, <span style=\"color: #00af00; text-decoration-color: #00af00\">116</span>)                 │          <span style=\"color: #00af00; text-decoration-color: #00af00\">27,028</span> │\n",
       "├──────────────────────────────────────┼─────────────────────────────┼─────────────────┤\n",
       "│ dense_2 (<span style=\"color: #0087ff; text-decoration-color: #0087ff\">Dense</span>)                      │ (<span style=\"color: #00d7ff; text-decoration-color: #00d7ff\">None</span>, <span style=\"color: #00af00; text-decoration-color: #00af00\">58</span>)                  │           <span style=\"color: #00af00; text-decoration-color: #00af00\">6,786</span> │\n",
       "└──────────────────────────────────────┴─────────────────────────────┴─────────────────┘\n",
       "</pre>\n"
      ],
      "text/plain": [
       "┏━━━━━━━━━━━━━━━━━━━━━━━━━━━━━━━━━━━━━━┳━━━━━━━━━━━━━━━━━━━━━━━━━━━━━┳━━━━━━━━━━━━━━━━━┓\n",
       "┃\u001b[1m \u001b[0m\u001b[1mLayer (type)                        \u001b[0m\u001b[1m \u001b[0m┃\u001b[1m \u001b[0m\u001b[1mOutput Shape               \u001b[0m\u001b[1m \u001b[0m┃\u001b[1m \u001b[0m\u001b[1m        Param #\u001b[0m\u001b[1m \u001b[0m┃\n",
       "┡━━━━━━━━━━━━━━━━━━━━━━━━━━━━━━━━━━━━━━╇━━━━━━━━━━━━━━━━━━━━━━━━━━━━━╇━━━━━━━━━━━━━━━━━┩\n",
       "│ conv2d (\u001b[38;5;33mConv2D\u001b[0m)                      │ (\u001b[38;5;45mNone\u001b[0m, \u001b[38;5;34m90\u001b[0m, \u001b[38;5;34m90\u001b[0m, \u001b[38;5;34m16\u001b[0m)          │             \u001b[38;5;34m160\u001b[0m │\n",
       "├──────────────────────────────────────┼─────────────────────────────┼─────────────────┤\n",
       "│ max_pooling2d (\u001b[38;5;33mMaxPooling2D\u001b[0m)         │ (\u001b[38;5;45mNone\u001b[0m, \u001b[38;5;34m45\u001b[0m, \u001b[38;5;34m45\u001b[0m, \u001b[38;5;34m16\u001b[0m)          │               \u001b[38;5;34m0\u001b[0m │\n",
       "├──────────────────────────────────────┼─────────────────────────────┼─────────────────┤\n",
       "│ conv2d_1 (\u001b[38;5;33mConv2D\u001b[0m)                    │ (\u001b[38;5;45mNone\u001b[0m, \u001b[38;5;34m45\u001b[0m, \u001b[38;5;34m45\u001b[0m, \u001b[38;5;34m32\u001b[0m)          │           \u001b[38;5;34m4,640\u001b[0m │\n",
       "├──────────────────────────────────────┼─────────────────────────────┼─────────────────┤\n",
       "│ max_pooling2d_1 (\u001b[38;5;33mMaxPooling2D\u001b[0m)       │ (\u001b[38;5;45mNone\u001b[0m, \u001b[38;5;34m23\u001b[0m, \u001b[38;5;34m23\u001b[0m, \u001b[38;5;34m32\u001b[0m)          │               \u001b[38;5;34m0\u001b[0m │\n",
       "├──────────────────────────────────────┼─────────────────────────────┼─────────────────┤\n",
       "│ conv2d_2 (\u001b[38;5;33mConv2D\u001b[0m)                    │ (\u001b[38;5;45mNone\u001b[0m, \u001b[38;5;34m23\u001b[0m, \u001b[38;5;34m23\u001b[0m, \u001b[38;5;34m64\u001b[0m)          │          \u001b[38;5;34m51,264\u001b[0m │\n",
       "├──────────────────────────────────────┼─────────────────────────────┼─────────────────┤\n",
       "│ max_pooling2d_2 (\u001b[38;5;33mMaxPooling2D\u001b[0m)       │ (\u001b[38;5;45mNone\u001b[0m, \u001b[38;5;34m12\u001b[0m, \u001b[38;5;34m12\u001b[0m, \u001b[38;5;34m64\u001b[0m)          │               \u001b[38;5;34m0\u001b[0m │\n",
       "├──────────────────────────────────────┼─────────────────────────────┼─────────────────┤\n",
       "│ conv2d_3 (\u001b[38;5;33mConv2D\u001b[0m)                    │ (\u001b[38;5;45mNone\u001b[0m, \u001b[38;5;34m12\u001b[0m, \u001b[38;5;34m12\u001b[0m, \u001b[38;5;34m128\u001b[0m)         │         \u001b[38;5;34m401,536\u001b[0m │\n",
       "├──────────────────────────────────────┼─────────────────────────────┼─────────────────┤\n",
       "│ max_pooling2d_3 (\u001b[38;5;33mMaxPooling2D\u001b[0m)       │ (\u001b[38;5;45mNone\u001b[0m, \u001b[38;5;34m6\u001b[0m, \u001b[38;5;34m6\u001b[0m, \u001b[38;5;34m128\u001b[0m)           │               \u001b[38;5;34m0\u001b[0m │\n",
       "├──────────────────────────────────────┼─────────────────────────────┼─────────────────┤\n",
       "│ flatten (\u001b[38;5;33mFlatten\u001b[0m)                    │ (\u001b[38;5;45mNone\u001b[0m, \u001b[38;5;34m4608\u001b[0m)                │               \u001b[38;5;34m0\u001b[0m │\n",
       "├──────────────────────────────────────┼─────────────────────────────┼─────────────────┤\n",
       "│ dense (\u001b[38;5;33mDense\u001b[0m)                        │ (\u001b[38;5;45mNone\u001b[0m, \u001b[38;5;34m232\u001b[0m)                 │       \u001b[38;5;34m1,069,288\u001b[0m │\n",
       "├──────────────────────────────────────┼─────────────────────────────┼─────────────────┤\n",
       "│ dense_1 (\u001b[38;5;33mDense\u001b[0m)                      │ (\u001b[38;5;45mNone\u001b[0m, \u001b[38;5;34m116\u001b[0m)                 │          \u001b[38;5;34m27,028\u001b[0m │\n",
       "├──────────────────────────────────────┼─────────────────────────────┼─────────────────┤\n",
       "│ dense_2 (\u001b[38;5;33mDense\u001b[0m)                      │ (\u001b[38;5;45mNone\u001b[0m, \u001b[38;5;34m58\u001b[0m)                  │           \u001b[38;5;34m6,786\u001b[0m │\n",
       "└──────────────────────────────────────┴─────────────────────────────┴─────────────────┘\n"
      ]
     },
     "metadata": {},
     "output_type": "display_data"
    },
    {
     "data": {
      "text/html": [
       "<pre style=\"white-space:pre;overflow-x:auto;line-height:normal;font-family:Menlo,'DejaVu Sans Mono',consolas,'Courier New',monospace\"><span style=\"font-weight: bold\"> Total params: </span><span style=\"color: #00af00; text-decoration-color: #00af00\">1,560,702</span> (5.95 MB)\n",
       "</pre>\n"
      ],
      "text/plain": [
       "\u001b[1m Total params: \u001b[0m\u001b[38;5;34m1,560,702\u001b[0m (5.95 MB)\n"
      ]
     },
     "metadata": {},
     "output_type": "display_data"
    },
    {
     "data": {
      "text/html": [
       "<pre style=\"white-space:pre;overflow-x:auto;line-height:normal;font-family:Menlo,'DejaVu Sans Mono',consolas,'Courier New',monospace\"><span style=\"font-weight: bold\"> Trainable params: </span><span style=\"color: #00af00; text-decoration-color: #00af00\">1,560,702</span> (5.95 MB)\n",
       "</pre>\n"
      ],
      "text/plain": [
       "\u001b[1m Trainable params: \u001b[0m\u001b[38;5;34m1,560,702\u001b[0m (5.95 MB)\n"
      ]
     },
     "metadata": {},
     "output_type": "display_data"
    },
    {
     "data": {
      "text/html": [
       "<pre style=\"white-space:pre;overflow-x:auto;line-height:normal;font-family:Menlo,'DejaVu Sans Mono',consolas,'Courier New',monospace\"><span style=\"font-weight: bold\"> Non-trainable params: </span><span style=\"color: #00af00; text-decoration-color: #00af00\">0</span> (0.00 B)\n",
       "</pre>\n"
      ],
      "text/plain": [
       "\u001b[1m Non-trainable params: \u001b[0m\u001b[38;5;34m0\u001b[0m (0.00 B)\n"
      ]
     },
     "metadata": {},
     "output_type": "display_data"
    }
   ],
   "source": [
    "cnnModel.summary()"
   ]
  },
  {
   "cell_type": "code",
   "execution_count": 8,
   "id": "24d76cf6-7ae4-48ac-81eb-6ae6bd52ed89",
   "metadata": {},
   "outputs": [],
   "source": [
    "cnnModel.compile(optimizer='adam', loss=tf.keras.losses.SparseCategoricalCrossentropy(from_logits=True), metrics=['accuracy'])\n"
   ]
  },
  {
   "cell_type": "code",
   "execution_count": 9,
   "id": "12bf6e41-bf27-4c82-ab7d-c6452e8ea92d",
   "metadata": {},
   "outputs": [
    {
     "name": "stdout",
     "output_type": "stream",
     "text": [
      "Epoch 1/12\n"
     ]
    },
    {
     "name": "stderr",
     "output_type": "stream",
     "text": [
      "C:\\Users\\manou\\AppData\\Roaming\\Python\\Python312\\site-packages\\keras\\src\\backend\\tensorflow\\nn.py:678: UserWarning: \"`sparse_categorical_crossentropy` received `from_logits=True`, but the `output` argument was produced by a Softmax activation and thus does not represent logits. Was this intended?\n",
      "  output, from_logits = _get_logits(\n"
     ]
    },
    {
     "name": "stdout",
     "output_type": "stream",
     "text": [
      "\u001b[1m111/111\u001b[0m \u001b[32m━━━━━━━━━━━━━━━━━━━━\u001b[0m\u001b[37m\u001b[0m \u001b[1m12s\u001b[0m 81ms/step - accuracy: 0.0829 - loss: 2.9394 - val_accuracy: 0.1348 - val_loss: 2.5750\n",
      "Epoch 2/12\n",
      "\u001b[1m111/111\u001b[0m \u001b[32m━━━━━━━━━━━━━━━━━━━━\u001b[0m\u001b[37m\u001b[0m \u001b[1m10s\u001b[0m 87ms/step - accuracy: 0.1648 - loss: 2.4982 - val_accuracy: 0.2996 - val_loss: 2.1442\n",
      "Epoch 3/12\n",
      "\u001b[1m111/111\u001b[0m \u001b[32m━━━━━━━━━━━━━━━━━━━━\u001b[0m\u001b[37m\u001b[0m \u001b[1m10s\u001b[0m 86ms/step - accuracy: 0.2944 - loss: 2.1517 - val_accuracy: 0.3233 - val_loss: 1.9690\n",
      "Epoch 4/12\n",
      "\u001b[1m111/111\u001b[0m \u001b[32m━━━━━━━━━━━━━━━━━━━━\u001b[0m\u001b[37m\u001b[0m \u001b[1m8s\u001b[0m 73ms/step - accuracy: 0.3642 - loss: 1.9199 - val_accuracy: 0.3920 - val_loss: 1.8441\n",
      "Epoch 5/12\n",
      "\u001b[1m111/111\u001b[0m \u001b[32m━━━━━━━━━━━━━━━━━━━━\u001b[0m\u001b[37m\u001b[0m \u001b[1m8s\u001b[0m 75ms/step - accuracy: 0.4405 - loss: 1.6543 - val_accuracy: 0.4270 - val_loss: 1.6857\n",
      "Epoch 6/12\n",
      "\u001b[1m111/111\u001b[0m \u001b[32m━━━━━━━━━━━━━━━━━━━━\u001b[0m\u001b[37m\u001b[0m \u001b[1m9s\u001b[0m 77ms/step - accuracy: 0.5298 - loss: 1.4216 - val_accuracy: 0.4719 - val_loss: 1.5601\n",
      "Epoch 7/12\n",
      "\u001b[1m111/111\u001b[0m \u001b[32m━━━━━━━━━━━━━━━━━━━━\u001b[0m\u001b[37m\u001b[0m \u001b[1m9s\u001b[0m 82ms/step - accuracy: 0.6118 - loss: 1.1827 - val_accuracy: 0.5543 - val_loss: 1.4717\n",
      "Epoch 8/12\n",
      "\u001b[1m111/111\u001b[0m \u001b[32m━━━━━━━━━━━━━━━━━━━━\u001b[0m\u001b[37m\u001b[0m \u001b[1m9s\u001b[0m 79ms/step - accuracy: 0.6864 - loss: 0.9034 - val_accuracy: 0.5655 - val_loss: 1.4225\n",
      "Epoch 9/12\n",
      "\u001b[1m111/111\u001b[0m \u001b[32m━━━━━━━━━━━━━━━━━━━━\u001b[0m\u001b[37m\u001b[0m \u001b[1m8s\u001b[0m 76ms/step - accuracy: 0.7653 - loss: 0.7209 - val_accuracy: 0.5793 - val_loss: 1.6711\n",
      "Epoch 10/12\n",
      "\u001b[1m111/111\u001b[0m \u001b[32m━━━━━━━━━━━━━━━━━━━━\u001b[0m\u001b[37m\u001b[0m \u001b[1m9s\u001b[0m 77ms/step - accuracy: 0.8084 - loss: 0.5537 - val_accuracy: 0.6080 - val_loss: 1.7518\n",
      "Epoch 11/12\n",
      "\u001b[1m111/111\u001b[0m \u001b[32m━━━━━━━━━━━━━━━━━━━━\u001b[0m\u001b[37m\u001b[0m \u001b[1m9s\u001b[0m 78ms/step - accuracy: 0.8804 - loss: 0.3702 - val_accuracy: 0.6205 - val_loss: 1.7717\n",
      "Epoch 12/12\n",
      "\u001b[1m111/111\u001b[0m \u001b[32m━━━━━━━━━━━━━━━━━━━━\u001b[0m\u001b[37m\u001b[0m \u001b[1m9s\u001b[0m 80ms/step - accuracy: 0.8946 - loss: 0.3310 - val_accuracy: 0.6255 - val_loss: 1.9254\n"
     ]
    }
   ],
   "source": [
    "# Prepare validation data\n",
    "validation_data_features, validation_data_labels = zip(*valid_data)\n",
    "validation_data_features = np.array(validation_data_features)\n",
    "validation_data_labels = np.array(validation_data_labels)\n",
    "\n",
    "# Normalize validation images\n",
    "validation_data_features = validation_data_features / 255.0\n",
    "validation_data_features = validation_data_features.reshape(-1, 90, 90, 1)\n",
    "\n",
    "# Train the model\n",
    "history = cnnModel.fit(\n",
    "    training_data_features, \n",
    "    training_data_labels, \n",
    "    validation_data=(validation_data_features, validation_data_labels),\n",
    "    epochs=12, \n",
    "    batch_size=32\n",
    ")"
   ]
  },
  {
   "cell_type": "code",
   "execution_count": 21,
   "id": "d6b19eca-6ddc-40d4-aaf8-6e88f8b419be",
   "metadata": {},
   "outputs": [],
   "source": [
    "test_data_features, test_data_labels = zip(*test_data)\n",
    "test_data_features = np.array(test_data_features)\n",
    "test_data_labels = np.array(test_data_labels)"
   ]
  },
  {
   "cell_type": "code",
   "execution_count": 23,
   "id": "6477bb77-d299-4dc9-8fc1-008ddd29fa9d",
   "metadata": {},
   "outputs": [
    {
     "name": "stdout",
     "output_type": "stream",
     "text": [
      "\u001b[1m20/20\u001b[0m \u001b[32m━━━━━━━━━━━━━━━━━━━━\u001b[0m\u001b[37m\u001b[0m \u001b[1m1s\u001b[0m 27ms/step\n"
     ]
    },
    {
     "data": {
      "image/png": "[encoded data removed]",
      "text/plain": [
       "<Figure size 1000x700 with 2 Axes>"
      ]
     },
     "metadata": {},
     "output_type": "display_data"
    }
   ],
   "source": [
    "from sklearn.metrics import confusion_matrix\n",
    "import seaborn as sns\n",
    "\n",
    "# Predict the labels on the test data\n",
    "test_predictions = cnnModel.predict(test_data_features)\n",
    "# Convert predictions from probabilities to class labels (use argmax to get the index of the highest probability)\n",
    "test_predictions = np.argmax(test_predictions, axis=1)\n",
    "\n",
    "# Generate confusion matrix\n",
    "cm = confusion_matrix(test_data_labels, test_predictions)\n",
    "\n",
    "# Plot the confusion matrix using seaborn for better visualization\n",
    "plt.figure(figsize=(10, 7))\n",
    "sns.heatmap(cm, annot=True, fmt=\"d\", cmap=\"Blues\", xticklabels=np.unique(test_data_labels), yticklabels=np.unique(test_data_labels))\n",
    "plt.title('Confusion Matrix')\n",
    "plt.xlabel('Predicted Labels')\n",
    "plt.ylabel('True Labels')\n",
    "plt.show()"
   ]
  },
  {
   "cell_type": "code",
   "execution_count": 27,
   "id": "71d4976f-a9dc-4854-a055-596b8d7e9af3",
   "metadata": {},
   "outputs": [
    {
     "name": "stdout",
     "output_type": "stream",
     "text": [
      "Class 0:\n",
      "True Positive (TP): 39\n",
      "False Positive (FP): 30\n",
      "False Negative (FN): 30\n",
      "True Negative (TN): 538\n",
      "\n",
      "Class 1:\n",
      "True Positive (TP): 31\n",
      "False Positive (FP): 28\n",
      "False Negative (FN): 25\n",
      "True Negative (TN): 553\n",
      "\n",
      "Class 2:\n",
      "True Positive (TP): 0\n",
      "False Positive (FP): 0\n",
      "False Negative (FN): 2\n",
      "True Negative (TN): 635\n",
      "\n",
      "Class 3:\n",
      "True Positive (TP): 20\n",
      "False Positive (FP): 34\n",
      "False Negative (FN): 21\n",
      "True Negative (TN): 562\n",
      "\n",
      "Class 4:\n",
      "True Positive (TP): 2\n",
      "False Positive (FP): 4\n",
      "False Negative (FN): 18\n",
      "True Negative (TN): 613\n",
      "\n",
      "Class 5:\n",
      "True Positive (TP): 6\n",
      "False Positive (FP): 8\n",
      "False Negative (FN): 29\n",
      "True Negative (TN): 594\n",
      "\n",
      "Class 6:\n",
      "True Positive (TP): 37\n",
      "False Positive (FP): 2\n",
      "False Negative (FN): 7\n",
      "True Negative (TN): 591\n",
      "\n",
      "Class 7:\n",
      "True Positive (TP): 33\n",
      "False Positive (FP): 44\n",
      "False Negative (FN): 23\n",
      "True Negative (TN): 537\n",
      "\n",
      "Class 8:\n",
      "True Positive (TP): 15\n",
      "False Positive (FP): 35\n",
      "False Negative (FN): 32\n",
      "True Negative (TN): 555\n",
      "\n",
      "Class 9:\n",
      "True Positive (TP): 15\n",
      "False Positive (FP): 31\n",
      "False Negative (FN): 30\n",
      "True Negative (TN): 561\n",
      "\n",
      "Class 10:\n",
      "True Positive (TP): 15\n",
      "False Positive (FP): 17\n",
      "False Negative (FN): 28\n",
      "True Negative (TN): 577\n",
      "\n",
      "Class 11:\n",
      "True Positive (TP): 29\n",
      "False Positive (FP): 34\n",
      "False Negative (FN): 18\n",
      "True Negative (TN): 556\n",
      "\n",
      "Class 12:\n",
      "True Positive (TP): 21\n",
      "False Positive (FP): 32\n",
      "False Negative (FN): 34\n",
      "True Negative (TN): 550\n",
      "\n",
      "Class 13:\n",
      "True Positive (TP): 9\n",
      "False Positive (FP): 22\n",
      "False Negative (FN): 21\n",
      "True Negative (TN): 585\n",
      "\n",
      "Class 14:\n",
      "True Positive (TP): 33\n",
      "False Positive (FP): 11\n",
      "False Negative (FN): 14\n",
      "True Negative (TN): 579\n",
      "\n"
     ]
    }
   ],
   "source": [
    "from sklearn.metrics import confusion_matrix\n",
    "\n",
    "# Generate the confusion matrix for multi-class classification\n",
    "cm = confusion_matrix(test_data_labels, test_predictions)\n",
    "\n",
    "# For each class (row/column), compute TP, TN, FP, FN\n",
    "for i in range(cm.shape[0]):\n",
    "    tp = cm[i, i]\n",
    "    fp = cm[:, i].sum() - tp  # sum of the column - TP\n",
    "    fn = cm[i, :].sum() - tp  # sum of the row - TP\n",
    "    tn = cm.sum() - (tp + fp + fn)\n",
    "    \n",
    "    print(f\"Class {i}:\")\n",
    "    print(f\"True Positive (TP): {tp}\")\n",
    "    print(f\"False Positive (FP): {fp}\")\n",
    "    print(f\"False Negative (FN): {fn}\")\n",
    "    print(f\"True Negative (TN): {tn}\")\n",
    "    print()"
   ]
  },
  {
   "cell_type": "code",
   "execution_count": 29,
   "id": "9d4e45ec-0f66-422c-baff-e6f56bd4d618",
   "metadata": {},
   "outputs": [
    {
     "name": "stdout",
     "output_type": "stream",
     "text": [
      "Class 0:\n",
      "True Positive (TP): 39\n",
      "False Positive (FP): 30\n",
      "False Negative (FN): 30\n",
      "True Negative (TN): 538\n",
      "Precision: 0.5652\n",
      "Recall: 0.5652\n",
      "F1-Score: 0.5652\n",
      "Accuracy: 0.9058\n",
      "\n",
      "Class 1:\n",
      "True Positive (TP): 31\n",
      "False Positive (FP): 28\n",
      "False Negative (FN): 25\n",
      "True Negative (TN): 553\n",
      "Precision: 0.5254\n",
      "Recall: 0.5536\n",
      "F1-Score: 0.5391\n",
      "Accuracy: 0.9168\n",
      "\n",
      "Class 2:\n",
      "True Positive (TP): 0\n",
      "False Positive (FP): 0\n",
      "False Negative (FN): 2\n",
      "True Negative (TN): 635\n",
      "Precision: 0.0000\n",
      "Recall: 0.0000\n",
      "F1-Score: 0.0000\n",
      "Accuracy: 0.9969\n",
      "\n",
      "Class 3:\n",
      "True Positive (TP): 20\n",
      "False Positive (FP): 34\n",
      "False Negative (FN): 21\n",
      "True Negative (TN): 562\n",
      "Precision: 0.3704\n",
      "Recall: 0.4878\n",
      "F1-Score: 0.4211\n",
      "Accuracy: 0.9137\n",
      "\n",
      "Class 4:\n",
      "True Positive (TP): 2\n",
      "False Positive (FP): 4\n",
      "False Negative (FN): 18\n",
      "True Negative (TN): 613\n",
      "Precision: 0.3333\n",
      "Recall: 0.1000\n",
      "F1-Score: 0.1538\n",
      "Accuracy: 0.9655\n",
      "\n",
      "Class 5:\n",
      "True Positive (TP): 6\n",
      "False Positive (FP): 8\n",
      "False Negative (FN): 29\n",
      "True Negative (TN): 594\n",
      "Precision: 0.4286\n",
      "Recall: 0.1714\n",
      "F1-Score: 0.2449\n",
      "Accuracy: 0.9419\n",
      "\n",
      "Class 6:\n",
      "True Positive (TP): 37\n",
      "False Positive (FP): 2\n",
      "False Negative (FN): 7\n",
      "True Negative (TN): 591\n",
      "Precision: 0.9487\n",
      "Recall: 0.8409\n",
      "F1-Score: 0.8916\n",
      "Accuracy: 0.9859\n",
      "\n",
      "Class 7:\n",
      "True Positive (TP): 33\n",
      "False Positive (FP): 44\n",
      "False Negative (FN): 23\n",
      "True Negative (TN): 537\n",
      "Precision: 0.4286\n",
      "Recall: 0.5893\n",
      "F1-Score: 0.4962\n",
      "Accuracy: 0.8948\n",
      "\n",
      "Class 8:\n",
      "True Positive (TP): 15\n",
      "False Positive (FP): 35\n",
      "False Negative (FN): 32\n",
      "True Negative (TN): 555\n",
      "Precision: 0.3000\n",
      "Recall: 0.3191\n",
      "F1-Score: 0.3093\n",
      "Accuracy: 0.8948\n",
      "\n",
      "Class 9:\n",
      "True Positive (TP): 15\n",
      "False Positive (FP): 31\n",
      "False Negative (FN): 30\n",
      "True Negative (TN): 561\n",
      "Precision: 0.3261\n",
      "Recall: 0.3333\n",
      "F1-Score: 0.3297\n",
      "Accuracy: 0.9042\n",
      "\n",
      "Class 10:\n",
      "True Positive (TP): 15\n",
      "False Positive (FP): 17\n",
      "False Negative (FN): 28\n",
      "True Negative (TN): 577\n",
      "Precision: 0.4688\n",
      "Recall: 0.3488\n",
      "F1-Score: 0.4000\n",
      "Accuracy: 0.9294\n",
      "\n",
      "Class 11:\n",
      "True Positive (TP): 29\n",
      "False Positive (FP): 34\n",
      "False Negative (FN): 18\n",
      "True Negative (TN): 556\n",
      "Precision: 0.4603\n",
      "Recall: 0.6170\n",
      "F1-Score: 0.5273\n",
      "Accuracy: 0.9184\n",
      "\n",
      "Class 12:\n",
      "True Positive (TP): 21\n",
      "False Positive (FP): 32\n",
      "False Negative (FN): 34\n",
      "True Negative (TN): 550\n",
      "Precision: 0.3962\n",
      "Recall: 0.3818\n",
      "F1-Score: 0.3889\n",
      "Accuracy: 0.8964\n",
      "\n",
      "Class 13:\n",
      "True Positive (TP): 9\n",
      "False Positive (FP): 22\n",
      "False Negative (FN): 21\n",
      "True Negative (TN): 585\n",
      "Precision: 0.2903\n",
      "Recall: 0.3000\n",
      "F1-Score: 0.2951\n",
      "Accuracy: 0.9325\n",
      "\n",
      "Class 14:\n",
      "True Positive (TP): 33\n",
      "False Positive (FP): 11\n",
      "False Negative (FN): 14\n",
      "True Negative (TN): 579\n",
      "Precision: 0.7500\n",
      "Recall: 0.7021\n",
      "F1-Score: 0.7253\n",
      "Accuracy: 0.9608\n",
      "\n"
     ]
    }
   ],
   "source": [
    "from sklearn.metrics import precision_score, recall_score, f1_score, accuracy_score\n",
    "\n",
    "# Calculate metrics for each class\n",
    "for i in range(cm.shape[0]):\n",
    "    tp = cm[i, i]\n",
    "    fp = cm[:, i].sum() - tp  # sum of the column - TP\n",
    "    fn = cm[i, :].sum() - tp  # sum of the row - TP\n",
    "    tn = cm.sum() - (tp + fp + fn)\n",
    "    \n",
    "    # Calculate Precision, Recall, F1-Score, and Accuracy\n",
    "    precision = tp / (tp + fp) if (tp + fp) != 0 else 0\n",
    "    recall = tp / (tp + fn) if (tp + fn) != 0 else 0\n",
    "    f1 = 2 * (precision * recall) / (precision + recall) if (precision + recall) != 0 else 0\n",
    "    accuracy = (tp + tn) / (tp + tn + fp + fn)\n",
    "    \n",
    "    print(f\"Class {i}:\")\n",
    "    print(f\"True Positive (TP): {tp}\")\n",
    "    print(f\"False Positive (FP): {fp}\")\n",
    "    print(f\"False Negative (FN): {fn}\")\n",
    "    print(f\"True Negative (TN): {tn}\")\n",
    "    print(f\"Precision: {precision:.4f}\")\n",
    "    print(f\"Recall: {recall:.4f}\")\n",
    "    print(f\"F1-Score: {f1:.4f}\")\n",
    "    print(f\"Accuracy: {accuracy:.4f}\")\n",
    "    print()\n"
   ]
  }
 ],
 "metadata": {
  "kernelspec": {
   "display_name": "Python 3 (ipykernel)",
   "language": "python",
   "name": "python3"
  },
  "language_info": {
   "codemirror_mode": {
    "name": "ipython",
    "version": 3
   },
   "file_extension": ".py",
   "mimetype": "text/x-python",
   "name": "python",
   "nbconvert_exporter": "python",
   "pygments_lexer": "ipython3",
   "version": "3.12.4"
  }
 },
 "nbformat": 4,
 "nbformat_minor": 5
}
